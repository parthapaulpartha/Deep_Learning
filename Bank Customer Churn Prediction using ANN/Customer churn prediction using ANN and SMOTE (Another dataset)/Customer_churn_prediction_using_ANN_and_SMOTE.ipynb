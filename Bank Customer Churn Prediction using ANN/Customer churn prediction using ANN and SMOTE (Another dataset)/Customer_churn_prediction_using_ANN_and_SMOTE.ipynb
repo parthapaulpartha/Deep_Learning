{
  "nbformat": 4,
  "nbformat_minor": 0,
  "metadata": {
    "colab": {
      "name": "Customer churn prediction using ANN and SMOTE.ipynb",
      "provenance": [],
      "collapsed_sections": []
    },
    "kernelspec": {
      "name": "python3",
      "display_name": "Python 3"
    },
    "language_info": {
      "name": "python"
    },
    "accelerator": "GPU",
    "gpuClass": "standard"
  },
  "cells": [
    {
      "cell_type": "code",
      "execution_count": 96,
      "metadata": {
        "id": "KM0DtTIONQ27"
      },
      "outputs": [],
      "source": [
        "# Importing the libraries\n",
        "import pandas as pd\n",
        "import numpy as np\n",
        "import seaborn as sns\n",
        "import matplotlib.pyplot as plt\n",
        "%matplotlib inline "
      ]
    },
    {
      "cell_type": "code",
      "source": [
        "# load dataset\n",
        "customer_churn_df = pd.read_csv('/content/WA_Fn-UseC_-Telco-Customer-Churn.csv')"
      ],
      "metadata": {
        "id": "wptZP9pRSYG3"
      },
      "execution_count": 97,
      "outputs": []
    },
    {
      "cell_type": "code",
      "source": [
        "customer_churn_df.head()"
      ],
      "metadata": {
        "colab": {
          "base_uri": "https://localhost:8080/",
          "height": 386
        },
        "id": "m6j8SrUrSsnA",
        "outputId": "c2e9c4ac-03c0-4460-d726-9b4ac78bb891"
      },
      "execution_count": 98,
      "outputs": [
        {
          "output_type": "execute_result",
          "data": {
            "text/plain": [
              "   customerID  gender  SeniorCitizen Partner Dependents  tenure PhoneService  \\\n",
              "0  7590-VHVEG  Female              0     Yes         No       1           No   \n",
              "1  5575-GNVDE    Male              0      No         No      34          Yes   \n",
              "2  3668-QPYBK    Male              0      No         No       2          Yes   \n",
              "3  7795-CFOCW    Male              0      No         No      45           No   \n",
              "4  9237-HQITU  Female              0      No         No       2          Yes   \n",
              "\n",
              "      MultipleLines InternetService OnlineSecurity  ... DeviceProtection  \\\n",
              "0  No phone service             DSL             No  ...               No   \n",
              "1                No             DSL            Yes  ...              Yes   \n",
              "2                No             DSL            Yes  ...               No   \n",
              "3  No phone service             DSL            Yes  ...              Yes   \n",
              "4                No     Fiber optic             No  ...               No   \n",
              "\n",
              "  TechSupport StreamingTV StreamingMovies        Contract PaperlessBilling  \\\n",
              "0          No          No              No  Month-to-month              Yes   \n",
              "1          No          No              No        One year               No   \n",
              "2          No          No              No  Month-to-month              Yes   \n",
              "3         Yes          No              No        One year               No   \n",
              "4          No          No              No  Month-to-month              Yes   \n",
              "\n",
              "               PaymentMethod MonthlyCharges  TotalCharges Churn  \n",
              "0           Electronic check          29.85         29.85    No  \n",
              "1               Mailed check          56.95        1889.5    No  \n",
              "2               Mailed check          53.85        108.15   Yes  \n",
              "3  Bank transfer (automatic)          42.30       1840.75    No  \n",
              "4           Electronic check          70.70        151.65   Yes  \n",
              "\n",
              "[5 rows x 21 columns]"
            ],
            "text/html": [
              "\n",
              "  <div id=\"df-063e9ae7-e88a-4952-9688-8263d1a0142a\">\n",
              "    <div class=\"colab-df-container\">\n",
              "      <div>\n",
              "<style scoped>\n",
              "    .dataframe tbody tr th:only-of-type {\n",
              "        vertical-align: middle;\n",
              "    }\n",
              "\n",
              "    .dataframe tbody tr th {\n",
              "        vertical-align: top;\n",
              "    }\n",
              "\n",
              "    .dataframe thead th {\n",
              "        text-align: right;\n",
              "    }\n",
              "</style>\n",
              "<table border=\"1\" class=\"dataframe\">\n",
              "  <thead>\n",
              "    <tr style=\"text-align: right;\">\n",
              "      <th></th>\n",
              "      <th>customerID</th>\n",
              "      <th>gender</th>\n",
              "      <th>SeniorCitizen</th>\n",
              "      <th>Partner</th>\n",
              "      <th>Dependents</th>\n",
              "      <th>tenure</th>\n",
              "      <th>PhoneService</th>\n",
              "      <th>MultipleLines</th>\n",
              "      <th>InternetService</th>\n",
              "      <th>OnlineSecurity</th>\n",
              "      <th>...</th>\n",
              "      <th>DeviceProtection</th>\n",
              "      <th>TechSupport</th>\n",
              "      <th>StreamingTV</th>\n",
              "      <th>StreamingMovies</th>\n",
              "      <th>Contract</th>\n",
              "      <th>PaperlessBilling</th>\n",
              "      <th>PaymentMethod</th>\n",
              "      <th>MonthlyCharges</th>\n",
              "      <th>TotalCharges</th>\n",
              "      <th>Churn</th>\n",
              "    </tr>\n",
              "  </thead>\n",
              "  <tbody>\n",
              "    <tr>\n",
              "      <th>0</th>\n",
              "      <td>7590-VHVEG</td>\n",
              "      <td>Female</td>\n",
              "      <td>0</td>\n",
              "      <td>Yes</td>\n",
              "      <td>No</td>\n",
              "      <td>1</td>\n",
              "      <td>No</td>\n",
              "      <td>No phone service</td>\n",
              "      <td>DSL</td>\n",
              "      <td>No</td>\n",
              "      <td>...</td>\n",
              "      <td>No</td>\n",
              "      <td>No</td>\n",
              "      <td>No</td>\n",
              "      <td>No</td>\n",
              "      <td>Month-to-month</td>\n",
              "      <td>Yes</td>\n",
              "      <td>Electronic check</td>\n",
              "      <td>29.85</td>\n",
              "      <td>29.85</td>\n",
              "      <td>No</td>\n",
              "    </tr>\n",
              "    <tr>\n",
              "      <th>1</th>\n",
              "      <td>5575-GNVDE</td>\n",
              "      <td>Male</td>\n",
              "      <td>0</td>\n",
              "      <td>No</td>\n",
              "      <td>No</td>\n",
              "      <td>34</td>\n",
              "      <td>Yes</td>\n",
              "      <td>No</td>\n",
              "      <td>DSL</td>\n",
              "      <td>Yes</td>\n",
              "      <td>...</td>\n",
              "      <td>Yes</td>\n",
              "      <td>No</td>\n",
              "      <td>No</td>\n",
              "      <td>No</td>\n",
              "      <td>One year</td>\n",
              "      <td>No</td>\n",
              "      <td>Mailed check</td>\n",
              "      <td>56.95</td>\n",
              "      <td>1889.5</td>\n",
              "      <td>No</td>\n",
              "    </tr>\n",
              "    <tr>\n",
              "      <th>2</th>\n",
              "      <td>3668-QPYBK</td>\n",
              "      <td>Male</td>\n",
              "      <td>0</td>\n",
              "      <td>No</td>\n",
              "      <td>No</td>\n",
              "      <td>2</td>\n",
              "      <td>Yes</td>\n",
              "      <td>No</td>\n",
              "      <td>DSL</td>\n",
              "      <td>Yes</td>\n",
              "      <td>...</td>\n",
              "      <td>No</td>\n",
              "      <td>No</td>\n",
              "      <td>No</td>\n",
              "      <td>No</td>\n",
              "      <td>Month-to-month</td>\n",
              "      <td>Yes</td>\n",
              "      <td>Mailed check</td>\n",
              "      <td>53.85</td>\n",
              "      <td>108.15</td>\n",
              "      <td>Yes</td>\n",
              "    </tr>\n",
              "    <tr>\n",
              "      <th>3</th>\n",
              "      <td>7795-CFOCW</td>\n",
              "      <td>Male</td>\n",
              "      <td>0</td>\n",
              "      <td>No</td>\n",
              "      <td>No</td>\n",
              "      <td>45</td>\n",
              "      <td>No</td>\n",
              "      <td>No phone service</td>\n",
              "      <td>DSL</td>\n",
              "      <td>Yes</td>\n",
              "      <td>...</td>\n",
              "      <td>Yes</td>\n",
              "      <td>Yes</td>\n",
              "      <td>No</td>\n",
              "      <td>No</td>\n",
              "      <td>One year</td>\n",
              "      <td>No</td>\n",
              "      <td>Bank transfer (automatic)</td>\n",
              "      <td>42.30</td>\n",
              "      <td>1840.75</td>\n",
              "      <td>No</td>\n",
              "    </tr>\n",
              "    <tr>\n",
              "      <th>4</th>\n",
              "      <td>9237-HQITU</td>\n",
              "      <td>Female</td>\n",
              "      <td>0</td>\n",
              "      <td>No</td>\n",
              "      <td>No</td>\n",
              "      <td>2</td>\n",
              "      <td>Yes</td>\n",
              "      <td>No</td>\n",
              "      <td>Fiber optic</td>\n",
              "      <td>No</td>\n",
              "      <td>...</td>\n",
              "      <td>No</td>\n",
              "      <td>No</td>\n",
              "      <td>No</td>\n",
              "      <td>No</td>\n",
              "      <td>Month-to-month</td>\n",
              "      <td>Yes</td>\n",
              "      <td>Electronic check</td>\n",
              "      <td>70.70</td>\n",
              "      <td>151.65</td>\n",
              "      <td>Yes</td>\n",
              "    </tr>\n",
              "  </tbody>\n",
              "</table>\n",
              "<p>5 rows × 21 columns</p>\n",
              "</div>\n",
              "      <button class=\"colab-df-convert\" onclick=\"convertToInteractive('df-063e9ae7-e88a-4952-9688-8263d1a0142a')\"\n",
              "              title=\"Convert this dataframe to an interactive table.\"\n",
              "              style=\"display:none;\">\n",
              "        \n",
              "  <svg xmlns=\"http://www.w3.org/2000/svg\" height=\"24px\"viewBox=\"0 0 24 24\"\n",
              "       width=\"24px\">\n",
              "    <path d=\"M0 0h24v24H0V0z\" fill=\"none\"/>\n",
              "    <path d=\"M18.56 5.44l.94 2.06.94-2.06 2.06-.94-2.06-.94-.94-2.06-.94 2.06-2.06.94zm-11 1L8.5 8.5l.94-2.06 2.06-.94-2.06-.94L8.5 2.5l-.94 2.06-2.06.94zm10 10l.94 2.06.94-2.06 2.06-.94-2.06-.94-.94-2.06-.94 2.06-2.06.94z\"/><path d=\"M17.41 7.96l-1.37-1.37c-.4-.4-.92-.59-1.43-.59-.52 0-1.04.2-1.43.59L10.3 9.45l-7.72 7.72c-.78.78-.78 2.05 0 2.83L4 21.41c.39.39.9.59 1.41.59.51 0 1.02-.2 1.41-.59l7.78-7.78 2.81-2.81c.8-.78.8-2.07 0-2.86zM5.41 20L4 18.59l7.72-7.72 1.47 1.35L5.41 20z\"/>\n",
              "  </svg>\n",
              "      </button>\n",
              "      \n",
              "  <style>\n",
              "    .colab-df-container {\n",
              "      display:flex;\n",
              "      flex-wrap:wrap;\n",
              "      gap: 12px;\n",
              "    }\n",
              "\n",
              "    .colab-df-convert {\n",
              "      background-color: #E8F0FE;\n",
              "      border: none;\n",
              "      border-radius: 50%;\n",
              "      cursor: pointer;\n",
              "      display: none;\n",
              "      fill: #1967D2;\n",
              "      height: 32px;\n",
              "      padding: 0 0 0 0;\n",
              "      width: 32px;\n",
              "    }\n",
              "\n",
              "    .colab-df-convert:hover {\n",
              "      background-color: #E2EBFA;\n",
              "      box-shadow: 0px 1px 2px rgba(60, 64, 67, 0.3), 0px 1px 3px 1px rgba(60, 64, 67, 0.15);\n",
              "      fill: #174EA6;\n",
              "    }\n",
              "\n",
              "    [theme=dark] .colab-df-convert {\n",
              "      background-color: #3B4455;\n",
              "      fill: #D2E3FC;\n",
              "    }\n",
              "\n",
              "    [theme=dark] .colab-df-convert:hover {\n",
              "      background-color: #434B5C;\n",
              "      box-shadow: 0px 1px 3px 1px rgba(0, 0, 0, 0.15);\n",
              "      filter: drop-shadow(0px 1px 2px rgba(0, 0, 0, 0.3));\n",
              "      fill: #FFFFFF;\n",
              "    }\n",
              "  </style>\n",
              "\n",
              "      <script>\n",
              "        const buttonEl =\n",
              "          document.querySelector('#df-063e9ae7-e88a-4952-9688-8263d1a0142a button.colab-df-convert');\n",
              "        buttonEl.style.display =\n",
              "          google.colab.kernel.accessAllowed ? 'block' : 'none';\n",
              "\n",
              "        async function convertToInteractive(key) {\n",
              "          const element = document.querySelector('#df-063e9ae7-e88a-4952-9688-8263d1a0142a');\n",
              "          const dataTable =\n",
              "            await google.colab.kernel.invokeFunction('convertToInteractive',\n",
              "                                                     [key], {});\n",
              "          if (!dataTable) return;\n",
              "\n",
              "          const docLinkHtml = 'Like what you see? Visit the ' +\n",
              "            '<a target=\"_blank\" href=https://colab.research.google.com/notebooks/data_table.ipynb>data table notebook</a>'\n",
              "            + ' to learn more about interactive tables.';\n",
              "          element.innerHTML = '';\n",
              "          dataTable['output_type'] = 'display_data';\n",
              "          await google.colab.output.renderOutput(dataTable, element);\n",
              "          const docLink = document.createElement('div');\n",
              "          docLink.innerHTML = docLinkHtml;\n",
              "          element.appendChild(docLink);\n",
              "        }\n",
              "      </script>\n",
              "    </div>\n",
              "  </div>\n",
              "  "
            ]
          },
          "metadata": {},
          "execution_count": 98
        }
      ]
    },
    {
      "cell_type": "code",
      "source": [
        "# shape of the dataset\n",
        "customer_churn_df.shape"
      ],
      "metadata": {
        "colab": {
          "base_uri": "https://localhost:8080/"
        },
        "id": "ONYSkmfWYPyr",
        "outputId": "297ca9af-eb3b-468d-fdad-2af42774d420"
      },
      "execution_count": 99,
      "outputs": [
        {
          "output_type": "execute_result",
          "data": {
            "text/plain": [
              "(7043, 21)"
            ]
          },
          "metadata": {},
          "execution_count": 99
        }
      ]
    },
    {
      "cell_type": "code",
      "source": [
        "customer_churn_df = customer_churn_df.drop('customerID', axis=1)\n",
        "customer_churn_df.sample(2)"
      ],
      "metadata": {
        "colab": {
          "base_uri": "https://localhost:8080/",
          "height": 211
        },
        "id": "yzH8YBqATgA-",
        "outputId": "9e4af2c1-1080-45cb-fc3b-1e4a087b6071"
      },
      "execution_count": 100,
      "outputs": [
        {
          "output_type": "execute_result",
          "data": {
            "text/plain": [
              "      gender  SeniorCitizen Partner Dependents  tenure PhoneService  \\\n",
              "1473  Female              0      No         No      24          Yes   \n",
              "726   Female              0      No         No      22          Yes   \n",
              "\n",
              "     MultipleLines InternetService       OnlineSecurity         OnlineBackup  \\\n",
              "1473           Yes     Fiber optic                   No                   No   \n",
              "726            Yes              No  No internet service  No internet service   \n",
              "\n",
              "         DeviceProtection          TechSupport          StreamingTV  \\\n",
              "1473                  Yes                   No                  Yes   \n",
              "726   No internet service  No internet service  No internet service   \n",
              "\n",
              "          StreamingMovies        Contract PaperlessBilling     PaymentMethod  \\\n",
              "1473                  Yes  Month-to-month              Yes  Electronic check   \n",
              "726   No internet service        Two year               No      Mailed check   \n",
              "\n",
              "      MonthlyCharges TotalCharges Churn  \n",
              "1473           98.75       2407.3   Yes  \n",
              "726            26.25        605.9    No  "
            ],
            "text/html": [
              "\n",
              "  <div id=\"df-06a31acd-b5c4-4b55-917a-fac4d291af07\">\n",
              "    <div class=\"colab-df-container\">\n",
              "      <div>\n",
              "<style scoped>\n",
              "    .dataframe tbody tr th:only-of-type {\n",
              "        vertical-align: middle;\n",
              "    }\n",
              "\n",
              "    .dataframe tbody tr th {\n",
              "        vertical-align: top;\n",
              "    }\n",
              "\n",
              "    .dataframe thead th {\n",
              "        text-align: right;\n",
              "    }\n",
              "</style>\n",
              "<table border=\"1\" class=\"dataframe\">\n",
              "  <thead>\n",
              "    <tr style=\"text-align: right;\">\n",
              "      <th></th>\n",
              "      <th>gender</th>\n",
              "      <th>SeniorCitizen</th>\n",
              "      <th>Partner</th>\n",
              "      <th>Dependents</th>\n",
              "      <th>tenure</th>\n",
              "      <th>PhoneService</th>\n",
              "      <th>MultipleLines</th>\n",
              "      <th>InternetService</th>\n",
              "      <th>OnlineSecurity</th>\n",
              "      <th>OnlineBackup</th>\n",
              "      <th>DeviceProtection</th>\n",
              "      <th>TechSupport</th>\n",
              "      <th>StreamingTV</th>\n",
              "      <th>StreamingMovies</th>\n",
              "      <th>Contract</th>\n",
              "      <th>PaperlessBilling</th>\n",
              "      <th>PaymentMethod</th>\n",
              "      <th>MonthlyCharges</th>\n",
              "      <th>TotalCharges</th>\n",
              "      <th>Churn</th>\n",
              "    </tr>\n",
              "  </thead>\n",
              "  <tbody>\n",
              "    <tr>\n",
              "      <th>1473</th>\n",
              "      <td>Female</td>\n",
              "      <td>0</td>\n",
              "      <td>No</td>\n",
              "      <td>No</td>\n",
              "      <td>24</td>\n",
              "      <td>Yes</td>\n",
              "      <td>Yes</td>\n",
              "      <td>Fiber optic</td>\n",
              "      <td>No</td>\n",
              "      <td>No</td>\n",
              "      <td>Yes</td>\n",
              "      <td>No</td>\n",
              "      <td>Yes</td>\n",
              "      <td>Yes</td>\n",
              "      <td>Month-to-month</td>\n",
              "      <td>Yes</td>\n",
              "      <td>Electronic check</td>\n",
              "      <td>98.75</td>\n",
              "      <td>2407.3</td>\n",
              "      <td>Yes</td>\n",
              "    </tr>\n",
              "    <tr>\n",
              "      <th>726</th>\n",
              "      <td>Female</td>\n",
              "      <td>0</td>\n",
              "      <td>No</td>\n",
              "      <td>No</td>\n",
              "      <td>22</td>\n",
              "      <td>Yes</td>\n",
              "      <td>Yes</td>\n",
              "      <td>No</td>\n",
              "      <td>No internet service</td>\n",
              "      <td>No internet service</td>\n",
              "      <td>No internet service</td>\n",
              "      <td>No internet service</td>\n",
              "      <td>No internet service</td>\n",
              "      <td>No internet service</td>\n",
              "      <td>Two year</td>\n",
              "      <td>No</td>\n",
              "      <td>Mailed check</td>\n",
              "      <td>26.25</td>\n",
              "      <td>605.9</td>\n",
              "      <td>No</td>\n",
              "    </tr>\n",
              "  </tbody>\n",
              "</table>\n",
              "</div>\n",
              "      <button class=\"colab-df-convert\" onclick=\"convertToInteractive('df-06a31acd-b5c4-4b55-917a-fac4d291af07')\"\n",
              "              title=\"Convert this dataframe to an interactive table.\"\n",
              "              style=\"display:none;\">\n",
              "        \n",
              "  <svg xmlns=\"http://www.w3.org/2000/svg\" height=\"24px\"viewBox=\"0 0 24 24\"\n",
              "       width=\"24px\">\n",
              "    <path d=\"M0 0h24v24H0V0z\" fill=\"none\"/>\n",
              "    <path d=\"M18.56 5.44l.94 2.06.94-2.06 2.06-.94-2.06-.94-.94-2.06-.94 2.06-2.06.94zm-11 1L8.5 8.5l.94-2.06 2.06-.94-2.06-.94L8.5 2.5l-.94 2.06-2.06.94zm10 10l.94 2.06.94-2.06 2.06-.94-2.06-.94-.94-2.06-.94 2.06-2.06.94z\"/><path d=\"M17.41 7.96l-1.37-1.37c-.4-.4-.92-.59-1.43-.59-.52 0-1.04.2-1.43.59L10.3 9.45l-7.72 7.72c-.78.78-.78 2.05 0 2.83L4 21.41c.39.39.9.59 1.41.59.51 0 1.02-.2 1.41-.59l7.78-7.78 2.81-2.81c.8-.78.8-2.07 0-2.86zM5.41 20L4 18.59l7.72-7.72 1.47 1.35L5.41 20z\"/>\n",
              "  </svg>\n",
              "      </button>\n",
              "      \n",
              "  <style>\n",
              "    .colab-df-container {\n",
              "      display:flex;\n",
              "      flex-wrap:wrap;\n",
              "      gap: 12px;\n",
              "    }\n",
              "\n",
              "    .colab-df-convert {\n",
              "      background-color: #E8F0FE;\n",
              "      border: none;\n",
              "      border-radius: 50%;\n",
              "      cursor: pointer;\n",
              "      display: none;\n",
              "      fill: #1967D2;\n",
              "      height: 32px;\n",
              "      padding: 0 0 0 0;\n",
              "      width: 32px;\n",
              "    }\n",
              "\n",
              "    .colab-df-convert:hover {\n",
              "      background-color: #E2EBFA;\n",
              "      box-shadow: 0px 1px 2px rgba(60, 64, 67, 0.3), 0px 1px 3px 1px rgba(60, 64, 67, 0.15);\n",
              "      fill: #174EA6;\n",
              "    }\n",
              "\n",
              "    [theme=dark] .colab-df-convert {\n",
              "      background-color: #3B4455;\n",
              "      fill: #D2E3FC;\n",
              "    }\n",
              "\n",
              "    [theme=dark] .colab-df-convert:hover {\n",
              "      background-color: #434B5C;\n",
              "      box-shadow: 0px 1px 3px 1px rgba(0, 0, 0, 0.15);\n",
              "      filter: drop-shadow(0px 1px 2px rgba(0, 0, 0, 0.3));\n",
              "      fill: #FFFFFF;\n",
              "    }\n",
              "  </style>\n",
              "\n",
              "      <script>\n",
              "        const buttonEl =\n",
              "          document.querySelector('#df-06a31acd-b5c4-4b55-917a-fac4d291af07 button.colab-df-convert');\n",
              "        buttonEl.style.display =\n",
              "          google.colab.kernel.accessAllowed ? 'block' : 'none';\n",
              "\n",
              "        async function convertToInteractive(key) {\n",
              "          const element = document.querySelector('#df-06a31acd-b5c4-4b55-917a-fac4d291af07');\n",
              "          const dataTable =\n",
              "            await google.colab.kernel.invokeFunction('convertToInteractive',\n",
              "                                                     [key], {});\n",
              "          if (!dataTable) return;\n",
              "\n",
              "          const docLinkHtml = 'Like what you see? Visit the ' +\n",
              "            '<a target=\"_blank\" href=https://colab.research.google.com/notebooks/data_table.ipynb>data table notebook</a>'\n",
              "            + ' to learn more about interactive tables.';\n",
              "          element.innerHTML = '';\n",
              "          dataTable['output_type'] = 'display_data';\n",
              "          await google.colab.output.renderOutput(dataTable, element);\n",
              "          const docLink = document.createElement('div');\n",
              "          docLink.innerHTML = docLinkHtml;\n",
              "          element.appendChild(docLink);\n",
              "        }\n",
              "      </script>\n",
              "    </div>\n",
              "  </div>\n",
              "  "
            ]
          },
          "metadata": {},
          "execution_count": 100
        }
      ]
    },
    {
      "cell_type": "code",
      "source": [
        "customer_churn_df.info()"
      ],
      "metadata": {
        "colab": {
          "base_uri": "https://localhost:8080/"
        },
        "id": "yPE3dsNZT1hw",
        "outputId": "58bb172a-1669-4274-8a35-22931472ad90"
      },
      "execution_count": 101,
      "outputs": [
        {
          "output_type": "stream",
          "name": "stdout",
          "text": [
            "<class 'pandas.core.frame.DataFrame'>\n",
            "RangeIndex: 7043 entries, 0 to 7042\n",
            "Data columns (total 20 columns):\n",
            " #   Column            Non-Null Count  Dtype  \n",
            "---  ------            --------------  -----  \n",
            " 0   gender            7043 non-null   object \n",
            " 1   SeniorCitizen     7043 non-null   int64  \n",
            " 2   Partner           7043 non-null   object \n",
            " 3   Dependents        7043 non-null   object \n",
            " 4   tenure            7043 non-null   int64  \n",
            " 5   PhoneService      7043 non-null   object \n",
            " 6   MultipleLines     7043 non-null   object \n",
            " 7   InternetService   7043 non-null   object \n",
            " 8   OnlineSecurity    7043 non-null   object \n",
            " 9   OnlineBackup      7043 non-null   object \n",
            " 10  DeviceProtection  7043 non-null   object \n",
            " 11  TechSupport       7043 non-null   object \n",
            " 12  StreamingTV       7043 non-null   object \n",
            " 13  StreamingMovies   7043 non-null   object \n",
            " 14  Contract          7043 non-null   object \n",
            " 15  PaperlessBilling  7043 non-null   object \n",
            " 16  PaymentMethod     7043 non-null   object \n",
            " 17  MonthlyCharges    7043 non-null   float64\n",
            " 18  TotalCharges      7043 non-null   object \n",
            " 19  Churn             7043 non-null   object \n",
            "dtypes: float64(1), int64(2), object(17)\n",
            "memory usage: 1.1+ MB\n"
          ]
        }
      ]
    },
    {
      "cell_type": "code",
      "source": [
        "customer_churn_df.isnull().sum()"
      ],
      "metadata": {
        "colab": {
          "base_uri": "https://localhost:8080/"
        },
        "id": "mxnrW4wTUoPX",
        "outputId": "14a63ef3-3b50-47c9-c9e3-9f47bb2f845c"
      },
      "execution_count": 102,
      "outputs": [
        {
          "output_type": "execute_result",
          "data": {
            "text/plain": [
              "gender              0\n",
              "SeniorCitizen       0\n",
              "Partner             0\n",
              "Dependents          0\n",
              "tenure              0\n",
              "PhoneService        0\n",
              "MultipleLines       0\n",
              "InternetService     0\n",
              "OnlineSecurity      0\n",
              "OnlineBackup        0\n",
              "DeviceProtection    0\n",
              "TechSupport         0\n",
              "StreamingTV         0\n",
              "StreamingMovies     0\n",
              "Contract            0\n",
              "PaperlessBilling    0\n",
              "PaymentMethod       0\n",
              "MonthlyCharges      0\n",
              "TotalCharges        0\n",
              "Churn               0\n",
              "dtype: int64"
            ]
          },
          "metadata": {},
          "execution_count": 102
        }
      ]
    },
    {
      "cell_type": "markdown",
      "source": [
        "No null values are available in customer_churn_df"
      ],
      "metadata": {
        "id": "7Gy6TRKeUzKE"
      }
    },
    {
      "cell_type": "code",
      "source": [
        "customer_churn_df['TotalCharges'].values"
      ],
      "metadata": {
        "colab": {
          "base_uri": "https://localhost:8080/"
        },
        "id": "1CJgK8yHWiRk",
        "outputId": "166ca1d7-43ac-424e-c6f9-3f36aecd25ad"
      },
      "execution_count": 103,
      "outputs": [
        {
          "output_type": "execute_result",
          "data": {
            "text/plain": [
              "array(['29.85', '1889.5', '108.15', ..., '346.45', '306.6', '6844.5'],\n",
              "      dtype=object)"
            ]
          },
          "metadata": {},
          "execution_count": 103
        }
      ]
    },
    {
      "cell_type": "code",
      "source": [
        "pd.to_numeric(customer_churn_df['TotalCharges'], errors='coerce').isnull()"
      ],
      "metadata": {
        "colab": {
          "base_uri": "https://localhost:8080/"
        },
        "id": "LvViVr9wYrCd",
        "outputId": "d2bf7fe5-a99f-4e73-d7f2-0f81cb9841f7"
      },
      "execution_count": 104,
      "outputs": [
        {
          "output_type": "execute_result",
          "data": {
            "text/plain": [
              "0       False\n",
              "1       False\n",
              "2       False\n",
              "3       False\n",
              "4       False\n",
              "        ...  \n",
              "7038    False\n",
              "7039    False\n",
              "7040    False\n",
              "7041    False\n",
              "7042    False\n",
              "Name: TotalCharges, Length: 7043, dtype: bool"
            ]
          },
          "metadata": {},
          "execution_count": 104
        }
      ]
    },
    {
      "cell_type": "code",
      "source": [
        "customer_churn_df[pd.to_numeric(customer_churn_df['TotalCharges'], errors='coerce').isnull()]"
      ],
      "metadata": {
        "colab": {
          "base_uri": "https://localhost:8080/",
          "height": 615
        },
        "id": "8ZKyQeLCWugU",
        "outputId": "7a01a58a-7346-4f08-b404-122d0293e58d"
      },
      "execution_count": 105,
      "outputs": [
        {
          "output_type": "execute_result",
          "data": {
            "text/plain": [
              "      gender  SeniorCitizen Partner Dependents  tenure PhoneService  \\\n",
              "488   Female              0     Yes        Yes       0           No   \n",
              "753     Male              0      No        Yes       0          Yes   \n",
              "936   Female              0     Yes        Yes       0          Yes   \n",
              "1082    Male              0     Yes        Yes       0          Yes   \n",
              "1340  Female              0     Yes        Yes       0           No   \n",
              "3331    Male              0     Yes        Yes       0          Yes   \n",
              "3826    Male              0     Yes        Yes       0          Yes   \n",
              "4380  Female              0     Yes        Yes       0          Yes   \n",
              "5218    Male              0     Yes        Yes       0          Yes   \n",
              "6670  Female              0     Yes        Yes       0          Yes   \n",
              "6754    Male              0      No        Yes       0          Yes   \n",
              "\n",
              "         MultipleLines InternetService       OnlineSecurity  \\\n",
              "488   No phone service             DSL                  Yes   \n",
              "753                 No              No  No internet service   \n",
              "936                 No             DSL                  Yes   \n",
              "1082               Yes              No  No internet service   \n",
              "1340  No phone service             DSL                  Yes   \n",
              "3331                No              No  No internet service   \n",
              "3826               Yes              No  No internet service   \n",
              "4380                No              No  No internet service   \n",
              "5218                No              No  No internet service   \n",
              "6670               Yes             DSL                   No   \n",
              "6754               Yes             DSL                  Yes   \n",
              "\n",
              "             OnlineBackup     DeviceProtection          TechSupport  \\\n",
              "488                    No                  Yes                  Yes   \n",
              "753   No internet service  No internet service  No internet service   \n",
              "936                   Yes                  Yes                   No   \n",
              "1082  No internet service  No internet service  No internet service   \n",
              "1340                  Yes                  Yes                  Yes   \n",
              "3331  No internet service  No internet service  No internet service   \n",
              "3826  No internet service  No internet service  No internet service   \n",
              "4380  No internet service  No internet service  No internet service   \n",
              "5218  No internet service  No internet service  No internet service   \n",
              "6670                  Yes                  Yes                  Yes   \n",
              "6754                  Yes                   No                  Yes   \n",
              "\n",
              "              StreamingTV      StreamingMovies  Contract PaperlessBilling  \\\n",
              "488                   Yes                   No  Two year              Yes   \n",
              "753   No internet service  No internet service  Two year               No   \n",
              "936                   Yes                  Yes  Two year               No   \n",
              "1082  No internet service  No internet service  Two year               No   \n",
              "1340                  Yes                   No  Two year               No   \n",
              "3331  No internet service  No internet service  Two year               No   \n",
              "3826  No internet service  No internet service  Two year               No   \n",
              "4380  No internet service  No internet service  Two year               No   \n",
              "5218  No internet service  No internet service  One year              Yes   \n",
              "6670                  Yes                   No  Two year               No   \n",
              "6754                   No                   No  Two year              Yes   \n",
              "\n",
              "                  PaymentMethod  MonthlyCharges TotalCharges Churn  \n",
              "488   Bank transfer (automatic)           52.55                 No  \n",
              "753                Mailed check           20.25                 No  \n",
              "936                Mailed check           80.85                 No  \n",
              "1082               Mailed check           25.75                 No  \n",
              "1340    Credit card (automatic)           56.05                 No  \n",
              "3331               Mailed check           19.85                 No  \n",
              "3826               Mailed check           25.35                 No  \n",
              "4380               Mailed check           20.00                 No  \n",
              "5218               Mailed check           19.70                 No  \n",
              "6670               Mailed check           73.35                 No  \n",
              "6754  Bank transfer (automatic)           61.90                 No  "
            ],
            "text/html": [
              "\n",
              "  <div id=\"df-8dac6095-8d5b-469c-b7db-c0916d088f23\">\n",
              "    <div class=\"colab-df-container\">\n",
              "      <div>\n",
              "<style scoped>\n",
              "    .dataframe tbody tr th:only-of-type {\n",
              "        vertical-align: middle;\n",
              "    }\n",
              "\n",
              "    .dataframe tbody tr th {\n",
              "        vertical-align: top;\n",
              "    }\n",
              "\n",
              "    .dataframe thead th {\n",
              "        text-align: right;\n",
              "    }\n",
              "</style>\n",
              "<table border=\"1\" class=\"dataframe\">\n",
              "  <thead>\n",
              "    <tr style=\"text-align: right;\">\n",
              "      <th></th>\n",
              "      <th>gender</th>\n",
              "      <th>SeniorCitizen</th>\n",
              "      <th>Partner</th>\n",
              "      <th>Dependents</th>\n",
              "      <th>tenure</th>\n",
              "      <th>PhoneService</th>\n",
              "      <th>MultipleLines</th>\n",
              "      <th>InternetService</th>\n",
              "      <th>OnlineSecurity</th>\n",
              "      <th>OnlineBackup</th>\n",
              "      <th>DeviceProtection</th>\n",
              "      <th>TechSupport</th>\n",
              "      <th>StreamingTV</th>\n",
              "      <th>StreamingMovies</th>\n",
              "      <th>Contract</th>\n",
              "      <th>PaperlessBilling</th>\n",
              "      <th>PaymentMethod</th>\n",
              "      <th>MonthlyCharges</th>\n",
              "      <th>TotalCharges</th>\n",
              "      <th>Churn</th>\n",
              "    </tr>\n",
              "  </thead>\n",
              "  <tbody>\n",
              "    <tr>\n",
              "      <th>488</th>\n",
              "      <td>Female</td>\n",
              "      <td>0</td>\n",
              "      <td>Yes</td>\n",
              "      <td>Yes</td>\n",
              "      <td>0</td>\n",
              "      <td>No</td>\n",
              "      <td>No phone service</td>\n",
              "      <td>DSL</td>\n",
              "      <td>Yes</td>\n",
              "      <td>No</td>\n",
              "      <td>Yes</td>\n",
              "      <td>Yes</td>\n",
              "      <td>Yes</td>\n",
              "      <td>No</td>\n",
              "      <td>Two year</td>\n",
              "      <td>Yes</td>\n",
              "      <td>Bank transfer (automatic)</td>\n",
              "      <td>52.55</td>\n",
              "      <td></td>\n",
              "      <td>No</td>\n",
              "    </tr>\n",
              "    <tr>\n",
              "      <th>753</th>\n",
              "      <td>Male</td>\n",
              "      <td>0</td>\n",
              "      <td>No</td>\n",
              "      <td>Yes</td>\n",
              "      <td>0</td>\n",
              "      <td>Yes</td>\n",
              "      <td>No</td>\n",
              "      <td>No</td>\n",
              "      <td>No internet service</td>\n",
              "      <td>No internet service</td>\n",
              "      <td>No internet service</td>\n",
              "      <td>No internet service</td>\n",
              "      <td>No internet service</td>\n",
              "      <td>No internet service</td>\n",
              "      <td>Two year</td>\n",
              "      <td>No</td>\n",
              "      <td>Mailed check</td>\n",
              "      <td>20.25</td>\n",
              "      <td></td>\n",
              "      <td>No</td>\n",
              "    </tr>\n",
              "    <tr>\n",
              "      <th>936</th>\n",
              "      <td>Female</td>\n",
              "      <td>0</td>\n",
              "      <td>Yes</td>\n",
              "      <td>Yes</td>\n",
              "      <td>0</td>\n",
              "      <td>Yes</td>\n",
              "      <td>No</td>\n",
              "      <td>DSL</td>\n",
              "      <td>Yes</td>\n",
              "      <td>Yes</td>\n",
              "      <td>Yes</td>\n",
              "      <td>No</td>\n",
              "      <td>Yes</td>\n",
              "      <td>Yes</td>\n",
              "      <td>Two year</td>\n",
              "      <td>No</td>\n",
              "      <td>Mailed check</td>\n",
              "      <td>80.85</td>\n",
              "      <td></td>\n",
              "      <td>No</td>\n",
              "    </tr>\n",
              "    <tr>\n",
              "      <th>1082</th>\n",
              "      <td>Male</td>\n",
              "      <td>0</td>\n",
              "      <td>Yes</td>\n",
              "      <td>Yes</td>\n",
              "      <td>0</td>\n",
              "      <td>Yes</td>\n",
              "      <td>Yes</td>\n",
              "      <td>No</td>\n",
              "      <td>No internet service</td>\n",
              "      <td>No internet service</td>\n",
              "      <td>No internet service</td>\n",
              "      <td>No internet service</td>\n",
              "      <td>No internet service</td>\n",
              "      <td>No internet service</td>\n",
              "      <td>Two year</td>\n",
              "      <td>No</td>\n",
              "      <td>Mailed check</td>\n",
              "      <td>25.75</td>\n",
              "      <td></td>\n",
              "      <td>No</td>\n",
              "    </tr>\n",
              "    <tr>\n",
              "      <th>1340</th>\n",
              "      <td>Female</td>\n",
              "      <td>0</td>\n",
              "      <td>Yes</td>\n",
              "      <td>Yes</td>\n",
              "      <td>0</td>\n",
              "      <td>No</td>\n",
              "      <td>No phone service</td>\n",
              "      <td>DSL</td>\n",
              "      <td>Yes</td>\n",
              "      <td>Yes</td>\n",
              "      <td>Yes</td>\n",
              "      <td>Yes</td>\n",
              "      <td>Yes</td>\n",
              "      <td>No</td>\n",
              "      <td>Two year</td>\n",
              "      <td>No</td>\n",
              "      <td>Credit card (automatic)</td>\n",
              "      <td>56.05</td>\n",
              "      <td></td>\n",
              "      <td>No</td>\n",
              "    </tr>\n",
              "    <tr>\n",
              "      <th>3331</th>\n",
              "      <td>Male</td>\n",
              "      <td>0</td>\n",
              "      <td>Yes</td>\n",
              "      <td>Yes</td>\n",
              "      <td>0</td>\n",
              "      <td>Yes</td>\n",
              "      <td>No</td>\n",
              "      <td>No</td>\n",
              "      <td>No internet service</td>\n",
              "      <td>No internet service</td>\n",
              "      <td>No internet service</td>\n",
              "      <td>No internet service</td>\n",
              "      <td>No internet service</td>\n",
              "      <td>No internet service</td>\n",
              "      <td>Two year</td>\n",
              "      <td>No</td>\n",
              "      <td>Mailed check</td>\n",
              "      <td>19.85</td>\n",
              "      <td></td>\n",
              "      <td>No</td>\n",
              "    </tr>\n",
              "    <tr>\n",
              "      <th>3826</th>\n",
              "      <td>Male</td>\n",
              "      <td>0</td>\n",
              "      <td>Yes</td>\n",
              "      <td>Yes</td>\n",
              "      <td>0</td>\n",
              "      <td>Yes</td>\n",
              "      <td>Yes</td>\n",
              "      <td>No</td>\n",
              "      <td>No internet service</td>\n",
              "      <td>No internet service</td>\n",
              "      <td>No internet service</td>\n",
              "      <td>No internet service</td>\n",
              "      <td>No internet service</td>\n",
              "      <td>No internet service</td>\n",
              "      <td>Two year</td>\n",
              "      <td>No</td>\n",
              "      <td>Mailed check</td>\n",
              "      <td>25.35</td>\n",
              "      <td></td>\n",
              "      <td>No</td>\n",
              "    </tr>\n",
              "    <tr>\n",
              "      <th>4380</th>\n",
              "      <td>Female</td>\n",
              "      <td>0</td>\n",
              "      <td>Yes</td>\n",
              "      <td>Yes</td>\n",
              "      <td>0</td>\n",
              "      <td>Yes</td>\n",
              "      <td>No</td>\n",
              "      <td>No</td>\n",
              "      <td>No internet service</td>\n",
              "      <td>No internet service</td>\n",
              "      <td>No internet service</td>\n",
              "      <td>No internet service</td>\n",
              "      <td>No internet service</td>\n",
              "      <td>No internet service</td>\n",
              "      <td>Two year</td>\n",
              "      <td>No</td>\n",
              "      <td>Mailed check</td>\n",
              "      <td>20.00</td>\n",
              "      <td></td>\n",
              "      <td>No</td>\n",
              "    </tr>\n",
              "    <tr>\n",
              "      <th>5218</th>\n",
              "      <td>Male</td>\n",
              "      <td>0</td>\n",
              "      <td>Yes</td>\n",
              "      <td>Yes</td>\n",
              "      <td>0</td>\n",
              "      <td>Yes</td>\n",
              "      <td>No</td>\n",
              "      <td>No</td>\n",
              "      <td>No internet service</td>\n",
              "      <td>No internet service</td>\n",
              "      <td>No internet service</td>\n",
              "      <td>No internet service</td>\n",
              "      <td>No internet service</td>\n",
              "      <td>No internet service</td>\n",
              "      <td>One year</td>\n",
              "      <td>Yes</td>\n",
              "      <td>Mailed check</td>\n",
              "      <td>19.70</td>\n",
              "      <td></td>\n",
              "      <td>No</td>\n",
              "    </tr>\n",
              "    <tr>\n",
              "      <th>6670</th>\n",
              "      <td>Female</td>\n",
              "      <td>0</td>\n",
              "      <td>Yes</td>\n",
              "      <td>Yes</td>\n",
              "      <td>0</td>\n",
              "      <td>Yes</td>\n",
              "      <td>Yes</td>\n",
              "      <td>DSL</td>\n",
              "      <td>No</td>\n",
              "      <td>Yes</td>\n",
              "      <td>Yes</td>\n",
              "      <td>Yes</td>\n",
              "      <td>Yes</td>\n",
              "      <td>No</td>\n",
              "      <td>Two year</td>\n",
              "      <td>No</td>\n",
              "      <td>Mailed check</td>\n",
              "      <td>73.35</td>\n",
              "      <td></td>\n",
              "      <td>No</td>\n",
              "    </tr>\n",
              "    <tr>\n",
              "      <th>6754</th>\n",
              "      <td>Male</td>\n",
              "      <td>0</td>\n",
              "      <td>No</td>\n",
              "      <td>Yes</td>\n",
              "      <td>0</td>\n",
              "      <td>Yes</td>\n",
              "      <td>Yes</td>\n",
              "      <td>DSL</td>\n",
              "      <td>Yes</td>\n",
              "      <td>Yes</td>\n",
              "      <td>No</td>\n",
              "      <td>Yes</td>\n",
              "      <td>No</td>\n",
              "      <td>No</td>\n",
              "      <td>Two year</td>\n",
              "      <td>Yes</td>\n",
              "      <td>Bank transfer (automatic)</td>\n",
              "      <td>61.90</td>\n",
              "      <td></td>\n",
              "      <td>No</td>\n",
              "    </tr>\n",
              "  </tbody>\n",
              "</table>\n",
              "</div>\n",
              "      <button class=\"colab-df-convert\" onclick=\"convertToInteractive('df-8dac6095-8d5b-469c-b7db-c0916d088f23')\"\n",
              "              title=\"Convert this dataframe to an interactive table.\"\n",
              "              style=\"display:none;\">\n",
              "        \n",
              "  <svg xmlns=\"http://www.w3.org/2000/svg\" height=\"24px\"viewBox=\"0 0 24 24\"\n",
              "       width=\"24px\">\n",
              "    <path d=\"M0 0h24v24H0V0z\" fill=\"none\"/>\n",
              "    <path d=\"M18.56 5.44l.94 2.06.94-2.06 2.06-.94-2.06-.94-.94-2.06-.94 2.06-2.06.94zm-11 1L8.5 8.5l.94-2.06 2.06-.94-2.06-.94L8.5 2.5l-.94 2.06-2.06.94zm10 10l.94 2.06.94-2.06 2.06-.94-2.06-.94-.94-2.06-.94 2.06-2.06.94z\"/><path d=\"M17.41 7.96l-1.37-1.37c-.4-.4-.92-.59-1.43-.59-.52 0-1.04.2-1.43.59L10.3 9.45l-7.72 7.72c-.78.78-.78 2.05 0 2.83L4 21.41c.39.39.9.59 1.41.59.51 0 1.02-.2 1.41-.59l7.78-7.78 2.81-2.81c.8-.78.8-2.07 0-2.86zM5.41 20L4 18.59l7.72-7.72 1.47 1.35L5.41 20z\"/>\n",
              "  </svg>\n",
              "      </button>\n",
              "      \n",
              "  <style>\n",
              "    .colab-df-container {\n",
              "      display:flex;\n",
              "      flex-wrap:wrap;\n",
              "      gap: 12px;\n",
              "    }\n",
              "\n",
              "    .colab-df-convert {\n",
              "      background-color: #E8F0FE;\n",
              "      border: none;\n",
              "      border-radius: 50%;\n",
              "      cursor: pointer;\n",
              "      display: none;\n",
              "      fill: #1967D2;\n",
              "      height: 32px;\n",
              "      padding: 0 0 0 0;\n",
              "      width: 32px;\n",
              "    }\n",
              "\n",
              "    .colab-df-convert:hover {\n",
              "      background-color: #E2EBFA;\n",
              "      box-shadow: 0px 1px 2px rgba(60, 64, 67, 0.3), 0px 1px 3px 1px rgba(60, 64, 67, 0.15);\n",
              "      fill: #174EA6;\n",
              "    }\n",
              "\n",
              "    [theme=dark] .colab-df-convert {\n",
              "      background-color: #3B4455;\n",
              "      fill: #D2E3FC;\n",
              "    }\n",
              "\n",
              "    [theme=dark] .colab-df-convert:hover {\n",
              "      background-color: #434B5C;\n",
              "      box-shadow: 0px 1px 3px 1px rgba(0, 0, 0, 0.15);\n",
              "      filter: drop-shadow(0px 1px 2px rgba(0, 0, 0, 0.3));\n",
              "      fill: #FFFFFF;\n",
              "    }\n",
              "  </style>\n",
              "\n",
              "      <script>\n",
              "        const buttonEl =\n",
              "          document.querySelector('#df-8dac6095-8d5b-469c-b7db-c0916d088f23 button.colab-df-convert');\n",
              "        buttonEl.style.display =\n",
              "          google.colab.kernel.accessAllowed ? 'block' : 'none';\n",
              "\n",
              "        async function convertToInteractive(key) {\n",
              "          const element = document.querySelector('#df-8dac6095-8d5b-469c-b7db-c0916d088f23');\n",
              "          const dataTable =\n",
              "            await google.colab.kernel.invokeFunction('convertToInteractive',\n",
              "                                                     [key], {});\n",
              "          if (!dataTable) return;\n",
              "\n",
              "          const docLinkHtml = 'Like what you see? Visit the ' +\n",
              "            '<a target=\"_blank\" href=https://colab.research.google.com/notebooks/data_table.ipynb>data table notebook</a>'\n",
              "            + ' to learn more about interactive tables.';\n",
              "          element.innerHTML = '';\n",
              "          dataTable['output_type'] = 'display_data';\n",
              "          await google.colab.output.renderOutput(dataTable, element);\n",
              "          const docLink = document.createElement('div');\n",
              "          docLink.innerHTML = docLinkHtml;\n",
              "          element.appendChild(docLink);\n",
              "        }\n",
              "      </script>\n",
              "    </div>\n",
              "  </div>\n",
              "  "
            ]
          },
          "metadata": {},
          "execution_count": 105
        }
      ]
    },
    {
      "cell_type": "code",
      "source": [
        "len(customer_churn_df[pd.to_numeric(customer_churn_df['TotalCharges'], errors='coerce').isnull()])"
      ],
      "metadata": {
        "colab": {
          "base_uri": "https://localhost:8080/"
        },
        "id": "7uPAC3oUZZ0j",
        "outputId": "694a2b0c-1676-4bcc-d69f-dcefd7956b7e"
      },
      "execution_count": 106,
      "outputs": [
        {
          "output_type": "execute_result",
          "data": {
            "text/plain": [
              "11"
            ]
          },
          "metadata": {},
          "execution_count": 106
        }
      ]
    },
    {
      "cell_type": "code",
      "source": [
        "customer_churn_df['TotalCharges'].iloc[753]"
      ],
      "metadata": {
        "colab": {
          "base_uri": "https://localhost:8080/",
          "height": 35
        },
        "id": "IsBhuVUgZmOz",
        "outputId": "d212fea4-9267-42a1-8a2a-5aab674e0f18"
      },
      "execution_count": 107,
      "outputs": [
        {
          "output_type": "execute_result",
          "data": {
            "text/plain": [
              "' '"
            ],
            "application/vnd.google.colaboratory.intrinsic+json": {
              "type": "string"
            }
          },
          "metadata": {},
          "execution_count": 107
        }
      ]
    },
    {
      "cell_type": "code",
      "source": [
        "# replace space(' ') to no space('')\n",
        "customer_churn_df['TotalCharges'].replace(' ', '', inplace=True)"
      ],
      "metadata": {
        "id": "YxCUWfOMaBSb"
      },
      "execution_count": 108,
      "outputs": []
    },
    {
      "cell_type": "code",
      "source": [
        "customer_churn_df['TotalCharges'] = pd.to_numeric(customer_churn_df['TotalCharges'])"
      ],
      "metadata": {
        "id": "2vozIXpjbzXa"
      },
      "execution_count": 109,
      "outputs": []
    },
    {
      "cell_type": "code",
      "source": [
        "customer_churn_df['TotalCharges'].values"
      ],
      "metadata": {
        "colab": {
          "base_uri": "https://localhost:8080/"
        },
        "id": "6hhT6MEgcMtM",
        "outputId": "c2ebe282-9a9e-4298-c60d-59bf8ee59c43"
      },
      "execution_count": 110,
      "outputs": [
        {
          "output_type": "execute_result",
          "data": {
            "text/plain": [
              "array([  29.85, 1889.5 ,  108.15, ...,  346.45,  306.6 , 6844.5 ])"
            ]
          },
          "metadata": {},
          "execution_count": 110
        }
      ]
    },
    {
      "cell_type": "code",
      "source": [
        "customer_churn_df['TotalCharges'].isnull().sum()"
      ],
      "metadata": {
        "colab": {
          "base_uri": "https://localhost:8080/"
        },
        "id": "SGvWFlhTa9UL",
        "outputId": "3fb0fd47-3d2d-4ef4-bc2b-72a4f64047cf"
      },
      "execution_count": 111,
      "outputs": [
        {
          "output_type": "execute_result",
          "data": {
            "text/plain": [
              "11"
            ]
          },
          "metadata": {},
          "execution_count": 111
        }
      ]
    },
    {
      "cell_type": "markdown",
      "source": [
        "11 null values are availabe "
      ],
      "metadata": {
        "id": "kBfWAkrQdpPY"
      }
    },
    {
      "cell_type": "code",
      "source": [
        "# creating median value for totalcharges column\n",
        "customer_churn_df['TotalCharges'].median()"
      ],
      "metadata": {
        "colab": {
          "base_uri": "https://localhost:8080/"
        },
        "id": "wRBfDVK9cnCu",
        "outputId": "4303371a-fe5b-40e8-bd4d-d8c06c2fe178"
      },
      "execution_count": 112,
      "outputs": [
        {
          "output_type": "execute_result",
          "data": {
            "text/plain": [
              "1397.475"
            ]
          },
          "metadata": {},
          "execution_count": 112
        }
      ]
    },
    {
      "cell_type": "code",
      "source": [
        "# filling null values with median values\n",
        "customer_churn_df['TotalCharges'] = customer_churn_df['TotalCharges'].fillna(customer_churn_df['TotalCharges'].median())"
      ],
      "metadata": {
        "id": "ezt9zoIqcyS6"
      },
      "execution_count": 113,
      "outputs": []
    },
    {
      "cell_type": "code",
      "source": [
        "customer_churn_df['TotalCharges'].isnull().sum()"
      ],
      "metadata": {
        "colab": {
          "base_uri": "https://localhost:8080/"
        },
        "id": "K6Lw4jXEdJy5",
        "outputId": "699253f6-fc0a-4810-e266-2ad60277af2d"
      },
      "execution_count": 114,
      "outputs": [
        {
          "output_type": "execute_result",
          "data": {
            "text/plain": [
              "0"
            ]
          },
          "metadata": {},
          "execution_count": 114
        }
      ]
    },
    {
      "cell_type": "markdown",
      "source": [
        "all null values are clear"
      ],
      "metadata": {
        "id": "SlBC03bedsJR"
      }
    },
    {
      "cell_type": "code",
      "source": [
        "customer_churn_df['TotalCharges'].dtype "
      ],
      "metadata": {
        "colab": {
          "base_uri": "https://localhost:8080/"
        },
        "id": "uzfIBLtcdvnL",
        "outputId": "e50f0790-b5aa-4802-d18d-0d6eacb4799d"
      },
      "execution_count": 115,
      "outputs": [
        {
          "output_type": "execute_result",
          "data": {
            "text/plain": [
              "dtype('float64')"
            ]
          },
          "metadata": {},
          "execution_count": 115
        }
      ]
    },
    {
      "cell_type": "code",
      "source": [
        "customer_churn_df.head(2)"
      ],
      "metadata": {
        "colab": {
          "base_uri": "https://localhost:8080/",
          "height": 193
        },
        "id": "4EjjLh3rd2s5",
        "outputId": "b0b0b2d1-f9dd-4552-ec2c-87fb0eb524d8"
      },
      "execution_count": 116,
      "outputs": [
        {
          "output_type": "execute_result",
          "data": {
            "text/plain": [
              "   gender  SeniorCitizen Partner Dependents  tenure PhoneService  \\\n",
              "0  Female              0     Yes         No       1           No   \n",
              "1    Male              0      No         No      34          Yes   \n",
              "\n",
              "      MultipleLines InternetService OnlineSecurity OnlineBackup  \\\n",
              "0  No phone service             DSL             No          Yes   \n",
              "1                No             DSL            Yes           No   \n",
              "\n",
              "  DeviceProtection TechSupport StreamingTV StreamingMovies        Contract  \\\n",
              "0               No          No          No              No  Month-to-month   \n",
              "1              Yes          No          No              No        One year   \n",
              "\n",
              "  PaperlessBilling     PaymentMethod  MonthlyCharges  TotalCharges Churn  \n",
              "0              Yes  Electronic check           29.85         29.85    No  \n",
              "1               No      Mailed check           56.95       1889.50    No  "
            ],
            "text/html": [
              "\n",
              "  <div id=\"df-6cae93bd-765c-485d-805a-1a9c1fc56d3c\">\n",
              "    <div class=\"colab-df-container\">\n",
              "      <div>\n",
              "<style scoped>\n",
              "    .dataframe tbody tr th:only-of-type {\n",
              "        vertical-align: middle;\n",
              "    }\n",
              "\n",
              "    .dataframe tbody tr th {\n",
              "        vertical-align: top;\n",
              "    }\n",
              "\n",
              "    .dataframe thead th {\n",
              "        text-align: right;\n",
              "    }\n",
              "</style>\n",
              "<table border=\"1\" class=\"dataframe\">\n",
              "  <thead>\n",
              "    <tr style=\"text-align: right;\">\n",
              "      <th></th>\n",
              "      <th>gender</th>\n",
              "      <th>SeniorCitizen</th>\n",
              "      <th>Partner</th>\n",
              "      <th>Dependents</th>\n",
              "      <th>tenure</th>\n",
              "      <th>PhoneService</th>\n",
              "      <th>MultipleLines</th>\n",
              "      <th>InternetService</th>\n",
              "      <th>OnlineSecurity</th>\n",
              "      <th>OnlineBackup</th>\n",
              "      <th>DeviceProtection</th>\n",
              "      <th>TechSupport</th>\n",
              "      <th>StreamingTV</th>\n",
              "      <th>StreamingMovies</th>\n",
              "      <th>Contract</th>\n",
              "      <th>PaperlessBilling</th>\n",
              "      <th>PaymentMethod</th>\n",
              "      <th>MonthlyCharges</th>\n",
              "      <th>TotalCharges</th>\n",
              "      <th>Churn</th>\n",
              "    </tr>\n",
              "  </thead>\n",
              "  <tbody>\n",
              "    <tr>\n",
              "      <th>0</th>\n",
              "      <td>Female</td>\n",
              "      <td>0</td>\n",
              "      <td>Yes</td>\n",
              "      <td>No</td>\n",
              "      <td>1</td>\n",
              "      <td>No</td>\n",
              "      <td>No phone service</td>\n",
              "      <td>DSL</td>\n",
              "      <td>No</td>\n",
              "      <td>Yes</td>\n",
              "      <td>No</td>\n",
              "      <td>No</td>\n",
              "      <td>No</td>\n",
              "      <td>No</td>\n",
              "      <td>Month-to-month</td>\n",
              "      <td>Yes</td>\n",
              "      <td>Electronic check</td>\n",
              "      <td>29.85</td>\n",
              "      <td>29.85</td>\n",
              "      <td>No</td>\n",
              "    </tr>\n",
              "    <tr>\n",
              "      <th>1</th>\n",
              "      <td>Male</td>\n",
              "      <td>0</td>\n",
              "      <td>No</td>\n",
              "      <td>No</td>\n",
              "      <td>34</td>\n",
              "      <td>Yes</td>\n",
              "      <td>No</td>\n",
              "      <td>DSL</td>\n",
              "      <td>Yes</td>\n",
              "      <td>No</td>\n",
              "      <td>Yes</td>\n",
              "      <td>No</td>\n",
              "      <td>No</td>\n",
              "      <td>No</td>\n",
              "      <td>One year</td>\n",
              "      <td>No</td>\n",
              "      <td>Mailed check</td>\n",
              "      <td>56.95</td>\n",
              "      <td>1889.50</td>\n",
              "      <td>No</td>\n",
              "    </tr>\n",
              "  </tbody>\n",
              "</table>\n",
              "</div>\n",
              "      <button class=\"colab-df-convert\" onclick=\"convertToInteractive('df-6cae93bd-765c-485d-805a-1a9c1fc56d3c')\"\n",
              "              title=\"Convert this dataframe to an interactive table.\"\n",
              "              style=\"display:none;\">\n",
              "        \n",
              "  <svg xmlns=\"http://www.w3.org/2000/svg\" height=\"24px\"viewBox=\"0 0 24 24\"\n",
              "       width=\"24px\">\n",
              "    <path d=\"M0 0h24v24H0V0z\" fill=\"none\"/>\n",
              "    <path d=\"M18.56 5.44l.94 2.06.94-2.06 2.06-.94-2.06-.94-.94-2.06-.94 2.06-2.06.94zm-11 1L8.5 8.5l.94-2.06 2.06-.94-2.06-.94L8.5 2.5l-.94 2.06-2.06.94zm10 10l.94 2.06.94-2.06 2.06-.94-2.06-.94-.94-2.06-.94 2.06-2.06.94z\"/><path d=\"M17.41 7.96l-1.37-1.37c-.4-.4-.92-.59-1.43-.59-.52 0-1.04.2-1.43.59L10.3 9.45l-7.72 7.72c-.78.78-.78 2.05 0 2.83L4 21.41c.39.39.9.59 1.41.59.51 0 1.02-.2 1.41-.59l7.78-7.78 2.81-2.81c.8-.78.8-2.07 0-2.86zM5.41 20L4 18.59l7.72-7.72 1.47 1.35L5.41 20z\"/>\n",
              "  </svg>\n",
              "      </button>\n",
              "      \n",
              "  <style>\n",
              "    .colab-df-container {\n",
              "      display:flex;\n",
              "      flex-wrap:wrap;\n",
              "      gap: 12px;\n",
              "    }\n",
              "\n",
              "    .colab-df-convert {\n",
              "      background-color: #E8F0FE;\n",
              "      border: none;\n",
              "      border-radius: 50%;\n",
              "      cursor: pointer;\n",
              "      display: none;\n",
              "      fill: #1967D2;\n",
              "      height: 32px;\n",
              "      padding: 0 0 0 0;\n",
              "      width: 32px;\n",
              "    }\n",
              "\n",
              "    .colab-df-convert:hover {\n",
              "      background-color: #E2EBFA;\n",
              "      box-shadow: 0px 1px 2px rgba(60, 64, 67, 0.3), 0px 1px 3px 1px rgba(60, 64, 67, 0.15);\n",
              "      fill: #174EA6;\n",
              "    }\n",
              "\n",
              "    [theme=dark] .colab-df-convert {\n",
              "      background-color: #3B4455;\n",
              "      fill: #D2E3FC;\n",
              "    }\n",
              "\n",
              "    [theme=dark] .colab-df-convert:hover {\n",
              "      background-color: #434B5C;\n",
              "      box-shadow: 0px 1px 3px 1px rgba(0, 0, 0, 0.15);\n",
              "      filter: drop-shadow(0px 1px 2px rgba(0, 0, 0, 0.3));\n",
              "      fill: #FFFFFF;\n",
              "    }\n",
              "  </style>\n",
              "\n",
              "      <script>\n",
              "        const buttonEl =\n",
              "          document.querySelector('#df-6cae93bd-765c-485d-805a-1a9c1fc56d3c button.colab-df-convert');\n",
              "        buttonEl.style.display =\n",
              "          google.colab.kernel.accessAllowed ? 'block' : 'none';\n",
              "\n",
              "        async function convertToInteractive(key) {\n",
              "          const element = document.querySelector('#df-6cae93bd-765c-485d-805a-1a9c1fc56d3c');\n",
              "          const dataTable =\n",
              "            await google.colab.kernel.invokeFunction('convertToInteractive',\n",
              "                                                     [key], {});\n",
              "          if (!dataTable) return;\n",
              "\n",
              "          const docLinkHtml = 'Like what you see? Visit the ' +\n",
              "            '<a target=\"_blank\" href=https://colab.research.google.com/notebooks/data_table.ipynb>data table notebook</a>'\n",
              "            + ' to learn more about interactive tables.';\n",
              "          element.innerHTML = '';\n",
              "          dataTable['output_type'] = 'display_data';\n",
              "          await google.colab.output.renderOutput(dataTable, element);\n",
              "          const docLink = document.createElement('div');\n",
              "          docLink.innerHTML = docLinkHtml;\n",
              "          element.appendChild(docLink);\n",
              "        }\n",
              "      </script>\n",
              "    </div>\n",
              "  </div>\n",
              "  "
            ]
          },
          "metadata": {},
          "execution_count": 116
        }
      ]
    },
    {
      "cell_type": "code",
      "source": [
        "customer_churn_df['Churn'].value_counts()"
      ],
      "metadata": {
        "colab": {
          "base_uri": "https://localhost:8080/"
        },
        "id": "2Q7REau8e-4L",
        "outputId": "b65eae72-ea69-4e1c-d5ed-4c9c4084ae61"
      },
      "execution_count": 117,
      "outputs": [
        {
          "output_type": "execute_result",
          "data": {
            "text/plain": [
              "No     5174\n",
              "Yes    1869\n",
              "Name: Churn, dtype: int64"
            ]
          },
          "metadata": {},
          "execution_count": 117
        }
      ]
    },
    {
      "cell_type": "code",
      "source": [
        "customer_churn_df[customer_churn_df['Churn'] == 'No'].tenure"
      ],
      "metadata": {
        "colab": {
          "base_uri": "https://localhost:8080/"
        },
        "id": "RHk7cdLLfX2Q",
        "outputId": "56f662bc-d343-4332-a1cd-22be9903799e"
      },
      "execution_count": 118,
      "outputs": [
        {
          "output_type": "execute_result",
          "data": {
            "text/plain": [
              "0        1\n",
              "1       34\n",
              "3       45\n",
              "6       22\n",
              "7       10\n",
              "        ..\n",
              "7037    72\n",
              "7038    24\n",
              "7039    72\n",
              "7040    11\n",
              "7042    66\n",
              "Name: tenure, Length: 5174, dtype: int64"
            ]
          },
          "metadata": {},
          "execution_count": 118
        }
      ]
    },
    {
      "cell_type": "code",
      "source": [
        "tenure_churn_yes = customer_churn_df[customer_churn_df['Churn'] == 'Yes'].tenure\n",
        "tenure_churn_no = customer_churn_df[customer_churn_df['Churn'] == 'No'].tenure\n",
        "\n",
        "plt.figure(figsize= (8,5))\n",
        "plt.xlabel('Tenure', fontsize=15)\n",
        "plt.ylabel('Number of Customers', fontsize=15)\n",
        "plt.title('Customer Churn Prediction based on Tenure', fontsize=15)\n",
        "\n",
        "plt.hist([tenure_churn_yes, tenure_churn_no], label=['Churn = Yes', 'Churn = No'])\n",
        "plt.legend()"
      ],
      "metadata": {
        "colab": {
          "base_uri": "https://localhost:8080/",
          "height": 464
        },
        "id": "THRFM_-DgmmH",
        "outputId": "361feb8f-c558-411c-dd01-6333d3fede31"
      },
      "execution_count": 119,
      "outputs": [
        {
          "output_type": "stream",
          "name": "stderr",
          "text": [
            "/usr/local/lib/python3.7/dist-packages/numpy/core/fromnumeric.py:3208: VisibleDeprecationWarning: Creating an ndarray from ragged nested sequences (which is a list-or-tuple of lists-or-tuples-or ndarrays with different lengths or shapes) is deprecated. If you meant to do this, you must specify 'dtype=object' when creating the ndarray.\n",
            "  return asarray(a).size\n",
            "/usr/local/lib/python3.7/dist-packages/matplotlib/cbook/__init__.py:1376: VisibleDeprecationWarning: Creating an ndarray from ragged nested sequences (which is a list-or-tuple of lists-or-tuples-or ndarrays with different lengths or shapes) is deprecated. If you meant to do this, you must specify 'dtype=object' when creating the ndarray.\n",
            "  X = np.atleast_1d(X.T if isinstance(X, np.ndarray) else np.asarray(X))\n"
          ]
        },
        {
          "output_type": "execute_result",
          "data": {
            "text/plain": [
              "<matplotlib.legend.Legend at 0x7f966f68fd90>"
            ]
          },
          "metadata": {},
          "execution_count": 119
        },
        {
          "output_type": "display_data",
          "data": {
            "text/plain": [
              "<Figure size 576x360 with 1 Axes>"
            ],
            "image/png": "[encoded data removed]"
          },
          "metadata": {
            "needs_background": "light"
          }
        }
      ]
    },
    {
      "cell_type": "code",
      "source": [
        "monthlyCharges_churn_yes = customer_churn_df[customer_churn_df['Churn'] == 'Yes'].MonthlyCharges\n",
        "monthlyCharges_churn_no = customer_churn_df[customer_churn_df['Churn'] == 'No'].MonthlyCharges\n",
        "\n",
        "plt.figure(figsize= (8,5))\n",
        "plt.xlabel('MonthlyCharges', fontsize=15)\n",
        "plt.ylabel('Number of Customers', fontsize=15)\n",
        "plt.title('Customer Churn Prediction based on MonthlyCharges', fontsize=15)\n",
        "\n",
        "plt.hist([monthlyCharges_churn_yes, monthlyCharges_churn_no], color=['green', 'red'], label=['Churn = Yes', 'Churn = No'])\n",
        "plt.legend()"
      ],
      "metadata": {
        "colab": {
          "base_uri": "https://localhost:8080/",
          "height": 374
        },
        "id": "F3IC2Fl6j38W",
        "outputId": "8d1f6494-35cd-4abb-cebd-546ac6189b6f"
      },
      "execution_count": 120,
      "outputs": [
        {
          "output_type": "execute_result",
          "data": {
            "text/plain": [
              "<matplotlib.legend.Legend at 0x7f966f641110>"
            ]
          },
          "metadata": {},
          "execution_count": 120
        },
        {
          "output_type": "display_data",
          "data": {
            "text/plain": [
              "<Figure size 576x360 with 1 Axes>"
            ],
            "image/png": "[encoded data removed]"
          },
          "metadata": {
            "needs_background": "light"
          }
        }
      ]
    },
    {
      "cell_type": "code",
      "source": [
        "totalCharges_churn_yes = customer_churn_df[customer_churn_df['Churn'] == 'Yes'].TotalCharges\n",
        "totalCharges_churn_no = customer_churn_df[customer_churn_df['Churn'] == 'No'].TotalCharges\n",
        "\n",
        "plt.figure(figsize= (8,5))\n",
        "plt.xlabel('TotalCharges', fontsize=15)\n",
        "plt.ylabel('Number of Customers', fontsize=15)\n",
        "plt.title('Customer Churn Prediction based on TotalCharges', fontsize=15)\n",
        "\n",
        "plt.hist([totalCharges_churn_yes, totalCharges_churn_no], color=['orange', 'black'], label=['Churn = Yes', 'Churn = No'])\n",
        "plt.legend()"
      ],
      "metadata": {
        "colab": {
          "base_uri": "https://localhost:8080/",
          "height": 374
        },
        "id": "f5w21mSnl4aQ",
        "outputId": "20e0cd38-d670-45b1-91bc-220574ce71f7"
      },
      "execution_count": 121,
      "outputs": [
        {
          "output_type": "execute_result",
          "data": {
            "text/plain": [
              "<matplotlib.legend.Legend at 0x7f966f576110>"
            ]
          },
          "metadata": {},
          "execution_count": 121
        },
        {
          "output_type": "display_data",
          "data": {
            "text/plain": [
              "<Figure size 576x360 with 1 Axes>"
            ],
            "image/png": "[encoded data removed]"
          },
          "metadata": {
            "needs_background": "light"
          }
        }
      ]
    },
    {
      "cell_type": "code",
      "source": [
        "sns.countplot(customer_churn_df['SeniorCitizen'])"
      ],
      "metadata": {
        "colab": {
          "base_uri": "https://localhost:8080/",
          "height": 351
        },
        "id": "_hMypvuUm7kU",
        "outputId": "c1393946-f47a-485e-adda-2e749dca003b"
      },
      "execution_count": 122,
      "outputs": [
        {
          "output_type": "stream",
          "name": "stderr",
          "text": [
            "/usr/local/lib/python3.7/dist-packages/seaborn/_decorators.py:43: FutureWarning: Pass the following variable as a keyword arg: x. From version 0.12, the only valid positional argument will be `data`, and passing other arguments without an explicit keyword will result in an error or misinterpretation.\n",
            "  FutureWarning\n"
          ]
        },
        {
          "output_type": "execute_result",
          "data": {
            "text/plain": [
              "<matplotlib.axes._subplots.AxesSubplot at 0x7f966f4909d0>"
            ]
          },
          "metadata": {},
          "execution_count": 122
        },
        {
          "output_type": "display_data",
          "data": {
            "text/plain": [
              "<Figure size 432x288 with 1 Axes>"
            ],
            "image/png": "[encoded data removed]"
          },
          "metadata": {
            "needs_background": "light"
          }
        }
      ]
    },
    {
      "cell_type": "code",
      "source": [
        "sns.countplot(customer_churn_df['Churn'])"
      ],
      "metadata": {
        "colab": {
          "base_uri": "https://localhost:8080/",
          "height": 351
        },
        "id": "01AXGwDQnSX1",
        "outputId": "244ef492-d7a4-4402-e58c-d5df4dc63401"
      },
      "execution_count": 123,
      "outputs": [
        {
          "output_type": "stream",
          "name": "stderr",
          "text": [
            "/usr/local/lib/python3.7/dist-packages/seaborn/_decorators.py:43: FutureWarning: Pass the following variable as a keyword arg: x. From version 0.12, the only valid positional argument will be `data`, and passing other arguments without an explicit keyword will result in an error or misinterpretation.\n",
            "  FutureWarning\n"
          ]
        },
        {
          "output_type": "execute_result",
          "data": {
            "text/plain": [
              "<matplotlib.axes._subplots.AxesSubplot at 0x7f966f465410>"
            ]
          },
          "metadata": {},
          "execution_count": 123
        },
        {
          "output_type": "display_data",
          "data": {
            "text/plain": [
              "<Figure size 432x288 with 1 Axes>"
            ],
            "image/png": "[encoded data removed]"
          },
          "metadata": {
            "needs_background": "light"
          }
        }
      ]
    },
    {
      "cell_type": "code",
      "source": [
        "def unique_column_value(df):\n",
        "  for column in customer_churn_df:\n",
        "    if customer_churn_df[column].dtype == 'object':\n",
        "      print(f'{column} : {customer_churn_df[column].unique()}')"
      ],
      "metadata": {
        "id": "2-QmZNOSnn5G"
      },
      "execution_count": 124,
      "outputs": []
    },
    {
      "cell_type": "code",
      "source": [
        "unique_column_value(customer_churn_df)"
      ],
      "metadata": {
        "colab": {
          "base_uri": "https://localhost:8080/"
        },
        "id": "gMtrHgW6rHDa",
        "outputId": "d6ce2834-9132-40a5-97e1-819d688eea09"
      },
      "execution_count": 125,
      "outputs": [
        {
          "output_type": "stream",
          "name": "stdout",
          "text": [
            "gender : ['Female' 'Male']\n",
            "Partner : ['Yes' 'No']\n",
            "Dependents : ['No' 'Yes']\n",
            "PhoneService : ['No' 'Yes']\n",
            "MultipleLines : ['No phone service' 'No' 'Yes']\n",
            "InternetService : ['DSL' 'Fiber optic' 'No']\n",
            "OnlineSecurity : ['No' 'Yes' 'No internet service']\n",
            "OnlineBackup : ['Yes' 'No' 'No internet service']\n",
            "DeviceProtection : ['No' 'Yes' 'No internet service']\n",
            "TechSupport : ['No' 'Yes' 'No internet service']\n",
            "StreamingTV : ['No' 'Yes' 'No internet service']\n",
            "StreamingMovies : ['No' 'Yes' 'No internet service']\n",
            "Contract : ['Month-to-month' 'One year' 'Two year']\n",
            "PaperlessBilling : ['Yes' 'No']\n",
            "PaymentMethod : ['Electronic check' 'Mailed check' 'Bank transfer (automatic)'\n",
            " 'Credit card (automatic)']\n",
            "Churn : ['No' 'Yes']\n"
          ]
        }
      ]
    },
    {
      "cell_type": "code",
      "source": [
        "customer_churn_df.replace('No phone service', 'No', inplace=True)\n",
        "customer_churn_df.replace('No internet service', 'No', inplace=True)"
      ],
      "metadata": {
        "id": "2mrtih6HrhEK"
      },
      "execution_count": 126,
      "outputs": []
    },
    {
      "cell_type": "code",
      "source": [
        "unique_column_value(customer_churn_df)"
      ],
      "metadata": {
        "colab": {
          "base_uri": "https://localhost:8080/"
        },
        "id": "GA3bZGJKrwQ6",
        "outputId": "f26bc5ea-7e5c-48af-b904-ed3454254d54"
      },
      "execution_count": 127,
      "outputs": [
        {
          "output_type": "stream",
          "name": "stdout",
          "text": [
            "gender : ['Female' 'Male']\n",
            "Partner : ['Yes' 'No']\n",
            "Dependents : ['No' 'Yes']\n",
            "PhoneService : ['No' 'Yes']\n",
            "MultipleLines : ['No' 'Yes']\n",
            "InternetService : ['DSL' 'Fiber optic' 'No']\n",
            "OnlineSecurity : ['No' 'Yes']\n",
            "OnlineBackup : ['Yes' 'No']\n",
            "DeviceProtection : ['No' 'Yes']\n",
            "TechSupport : ['No' 'Yes']\n",
            "StreamingTV : ['No' 'Yes']\n",
            "StreamingMovies : ['No' 'Yes']\n",
            "Contract : ['Month-to-month' 'One year' 'Two year']\n",
            "PaperlessBilling : ['Yes' 'No']\n",
            "PaymentMethod : ['Electronic check' 'Mailed check' 'Bank transfer (automatic)'\n",
            " 'Credit card (automatic)']\n",
            "Churn : ['No' 'Yes']\n"
          ]
        }
      ]
    },
    {
      "cell_type": "code",
      "source": [
        "yes_no_columns = ['Partner', 'Dependents', 'PhoneService', 'MultipleLines', \n",
        "                  'OnlineSecurity', 'OnlineBackup', 'DeviceProtection',\n",
        "                  'TechSupport', 'StreamingTV', 'StreamingMovies', 'PaperlessBilling', 'Churn']"
      ],
      "metadata": {
        "id": "fSqe-2ucsFe5"
      },
      "execution_count": 128,
      "outputs": []
    },
    {
      "cell_type": "code",
      "source": [
        "for col in yes_no_columns:\n",
        "  customer_churn_df[col].replace({'Yes':1, 'No':0}, inplace=True)"
      ],
      "metadata": {
        "id": "dMWTzXV4tSVU"
      },
      "execution_count": 129,
      "outputs": []
    },
    {
      "cell_type": "code",
      "source": [
        "for col in customer_churn_df:\n",
        "  print(f'{col}: {customer_churn_df[col].unique()}')"
      ],
      "metadata": {
        "colab": {
          "base_uri": "https://localhost:8080/"
        },
        "id": "p6vy0CBOv3mH",
        "outputId": "4b00b5ee-a6fb-41fb-dbf3-4495561a2de0"
      },
      "execution_count": 130,
      "outputs": [
        {
          "output_type": "stream",
          "name": "stdout",
          "text": [
            "gender: ['Female' 'Male']\n",
            "SeniorCitizen: [0 1]\n",
            "Partner: [1 0]\n",
            "Dependents: [0 1]\n",
            "tenure: [ 1 34  2 45  8 22 10 28 62 13 16 58 49 25 69 52 71 21 12 30 47 72 17 27\n",
            "  5 46 11 70 63 43 15 60 18 66  9  3 31 50 64 56  7 42 35 48 29 65 38 68\n",
            " 32 55 37 36 41  6  4 33 67 23 57 61 14 20 53 40 59 24 44 19 54 51 26  0\n",
            " 39]\n",
            "PhoneService: [0 1]\n",
            "MultipleLines: [0 1]\n",
            "InternetService: ['DSL' 'Fiber optic' 'No']\n",
            "OnlineSecurity: [0 1]\n",
            "OnlineBackup: [1 0]\n",
            "DeviceProtection: [0 1]\n",
            "TechSupport: [0 1]\n",
            "StreamingTV: [0 1]\n",
            "StreamingMovies: [0 1]\n",
            "Contract: ['Month-to-month' 'One year' 'Two year']\n",
            "PaperlessBilling: [1 0]\n",
            "PaymentMethod: ['Electronic check' 'Mailed check' 'Bank transfer (automatic)'\n",
            " 'Credit card (automatic)']\n",
            "MonthlyCharges: [29.85 56.95 53.85 ... 63.1  44.2  78.7 ]\n",
            "TotalCharges: [  29.85 1889.5   108.15 ...  346.45  306.6  6844.5 ]\n",
            "Churn: [0 1]\n"
          ]
        }
      ]
    },
    {
      "cell_type": "code",
      "source": [
        "customer_churn_df['gender'].replace({'Male':1, 'Female':0}, inplace=True)"
      ],
      "metadata": {
        "id": "7wMI57xzve03"
      },
      "execution_count": 131,
      "outputs": []
    },
    {
      "cell_type": "code",
      "source": [
        "pd.get_dummies(data=customer_churn_df, columns=['InternetService', 'Contract', 'PaymentMethod'], drop_first=True)"
      ],
      "metadata": {
        "colab": {
          "base_uri": "https://localhost:8080/",
          "height": 505
        },
        "id": "AG4Mq8zD1oWv",
        "outputId": "5cd0bc17-f861-4a8b-fe70-c371eee42b20"
      },
      "execution_count": 132,
      "outputs": [
        {
          "output_type": "execute_result",
          "data": {
            "text/plain": [
              "      gender  SeniorCitizen  Partner  Dependents  tenure  PhoneService  \\\n",
              "0          0              0        1           0       1             0   \n",
              "1          1              0        0           0      34             1   \n",
              "2          1              0        0           0       2             1   \n",
              "3          1              0        0           0      45             0   \n",
              "4          0              0        0           0       2             1   \n",
              "...      ...            ...      ...         ...     ...           ...   \n",
              "7038       1              0        1           1      24             1   \n",
              "7039       0              0        1           1      72             1   \n",
              "7040       0              0        1           1      11             0   \n",
              "7041       1              1        1           0       4             1   \n",
              "7042       1              0        0           0      66             1   \n",
              "\n",
              "      MultipleLines  OnlineSecurity  OnlineBackup  DeviceProtection  ...  \\\n",
              "0                 0               0             1                 0  ...   \n",
              "1                 0               1             0                 1  ...   \n",
              "2                 0               1             1                 0  ...   \n",
              "3                 0               1             0                 1  ...   \n",
              "4                 0               0             0                 0  ...   \n",
              "...             ...             ...           ...               ...  ...   \n",
              "7038              1               1             0                 1  ...   \n",
              "7039              1               0             1                 1  ...   \n",
              "7040              0               1             0                 0  ...   \n",
              "7041              1               0             0                 0  ...   \n",
              "7042              0               1             0                 1  ...   \n",
              "\n",
              "      MonthlyCharges  TotalCharges  Churn  InternetService_Fiber optic  \\\n",
              "0              29.85         29.85      0                            0   \n",
              "1              56.95       1889.50      0                            0   \n",
              "2              53.85        108.15      1                            0   \n",
              "3              42.30       1840.75      0                            0   \n",
              "4              70.70        151.65      1                            1   \n",
              "...              ...           ...    ...                          ...   \n",
              "7038           84.80       1990.50      0                            0   \n",
              "7039          103.20       7362.90      0                            1   \n",
              "7040           29.60        346.45      0                            0   \n",
              "7041           74.40        306.60      1                            1   \n",
              "7042          105.65       6844.50      0                            1   \n",
              "\n",
              "      InternetService_No  Contract_One year  Contract_Two year  \\\n",
              "0                      0                  0                  0   \n",
              "1                      0                  1                  0   \n",
              "2                      0                  0                  0   \n",
              "3                      0                  1                  0   \n",
              "4                      0                  0                  0   \n",
              "...                  ...                ...                ...   \n",
              "7038                   0                  1                  0   \n",
              "7039                   0                  1                  0   \n",
              "7040                   0                  0                  0   \n",
              "7041                   0                  0                  0   \n",
              "7042                   0                  0                  1   \n",
              "\n",
              "      PaymentMethod_Credit card (automatic)  PaymentMethod_Electronic check  \\\n",
              "0                                         0                               1   \n",
              "1                                         0                               0   \n",
              "2                                         0                               0   \n",
              "3                                         0                               0   \n",
              "4                                         0                               1   \n",
              "...                                     ...                             ...   \n",
              "7038                                      0                               0   \n",
              "7039                                      1                               0   \n",
              "7040                                      0                               1   \n",
              "7041                                      0                               0   \n",
              "7042                                      0                               0   \n",
              "\n",
              "      PaymentMethod_Mailed check  \n",
              "0                              0  \n",
              "1                              1  \n",
              "2                              1  \n",
              "3                              0  \n",
              "4                              0  \n",
              "...                          ...  \n",
              "7038                           1  \n",
              "7039                           0  \n",
              "7040                           0  \n",
              "7041                           1  \n",
              "7042                           0  \n",
              "\n",
              "[7043 rows x 24 columns]"
            ],
            "text/html": [
              "\n",
              "  <div id=\"df-0449e48e-aa24-4388-8052-6c189783eae9\">\n",
              "    <div class=\"colab-df-container\">\n",
              "      <div>\n",
              "<style scoped>\n",
              "    .dataframe tbody tr th:only-of-type {\n",
              "        vertical-align: middle;\n",
              "    }\n",
              "\n",
              "    .dataframe tbody tr th {\n",
              "        vertical-align: top;\n",
              "    }\n",
              "\n",
              "    .dataframe thead th {\n",
              "        text-align: right;\n",
              "    }\n",
              "</style>\n",
              "<table border=\"1\" class=\"dataframe\">\n",
              "  <thead>\n",
              "    <tr style=\"text-align: right;\">\n",
              "      <th></th>\n",
              "      <th>gender</th>\n",
              "      <th>SeniorCitizen</th>\n",
              "      <th>Partner</th>\n",
              "      <th>Dependents</th>\n",
              "      <th>tenure</th>\n",
              "      <th>PhoneService</th>\n",
              "      <th>MultipleLines</th>\n",
              "      <th>OnlineSecurity</th>\n",
              "      <th>OnlineBackup</th>\n",
              "      <th>DeviceProtection</th>\n",
              "      <th>...</th>\n",
              "      <th>MonthlyCharges</th>\n",
              "      <th>TotalCharges</th>\n",
              "      <th>Churn</th>\n",
              "      <th>InternetService_Fiber optic</th>\n",
              "      <th>InternetService_No</th>\n",
              "      <th>Contract_One year</th>\n",
              "      <th>Contract_Two year</th>\n",
              "      <th>PaymentMethod_Credit card (automatic)</th>\n",
              "      <th>PaymentMethod_Electronic check</th>\n",
              "      <th>PaymentMethod_Mailed check</th>\n",
              "    </tr>\n",
              "  </thead>\n",
              "  <tbody>\n",
              "    <tr>\n",
              "      <th>0</th>\n",
              "      <td>0</td>\n",
              "      <td>0</td>\n",
              "      <td>1</td>\n",
              "      <td>0</td>\n",
              "      <td>1</td>\n",
              "      <td>0</td>\n",
              "      <td>0</td>\n",
              "      <td>0</td>\n",
              "      <td>1</td>\n",
              "      <td>0</td>\n",
              "      <td>...</td>\n",
              "      <td>29.85</td>\n",
              "      <td>29.85</td>\n",
              "      <td>0</td>\n",
              "      <td>0</td>\n",
              "      <td>0</td>\n",
              "      <td>0</td>\n",
              "      <td>0</td>\n",
              "      <td>0</td>\n",
              "      <td>1</td>\n",
              "      <td>0</td>\n",
              "    </tr>\n",
              "    <tr>\n",
              "      <th>1</th>\n",
              "      <td>1</td>\n",
              "      <td>0</td>\n",
              "      <td>0</td>\n",
              "      <td>0</td>\n",
              "      <td>34</td>\n",
              "      <td>1</td>\n",
              "      <td>0</td>\n",
              "      <td>1</td>\n",
              "      <td>0</td>\n",
              "      <td>1</td>\n",
              "      <td>...</td>\n",
              "      <td>56.95</td>\n",
              "      <td>1889.50</td>\n",
              "      <td>0</td>\n",
              "      <td>0</td>\n",
              "      <td>0</td>\n",
              "      <td>1</td>\n",
              "      <td>0</td>\n",
              "      <td>0</td>\n",
              "      <td>0</td>\n",
              "      <td>1</td>\n",
              "    </tr>\n",
              "    <tr>\n",
              "      <th>2</th>\n",
              "      <td>1</td>\n",
              "      <td>0</td>\n",
              "      <td>0</td>\n",
              "      <td>0</td>\n",
              "      <td>2</td>\n",
              "      <td>1</td>\n",
              "      <td>0</td>\n",
              "      <td>1</td>\n",
              "      <td>1</td>\n",
              "      <td>0</td>\n",
              "      <td>...</td>\n",
              "      <td>53.85</td>\n",
              "      <td>108.15</td>\n",
              "      <td>1</td>\n",
              "      <td>0</td>\n",
              "      <td>0</td>\n",
              "      <td>0</td>\n",
              "      <td>0</td>\n",
              "      <td>0</td>\n",
              "      <td>0</td>\n",
              "      <td>1</td>\n",
              "    </tr>\n",
              "    <tr>\n",
              "      <th>3</th>\n",
              "      <td>1</td>\n",
              "      <td>0</td>\n",
              "      <td>0</td>\n",
              "      <td>0</td>\n",
              "      <td>45</td>\n",
              "      <td>0</td>\n",
              "      <td>0</td>\n",
              "      <td>1</td>\n",
              "      <td>0</td>\n",
              "      <td>1</td>\n",
              "      <td>...</td>\n",
              "      <td>42.30</td>\n",
              "      <td>1840.75</td>\n",
              "      <td>0</td>\n",
              "      <td>0</td>\n",
              "      <td>0</td>\n",
              "      <td>1</td>\n",
              "      <td>0</td>\n",
              "      <td>0</td>\n",
              "      <td>0</td>\n",
              "      <td>0</td>\n",
              "    </tr>\n",
              "    <tr>\n",
              "      <th>4</th>\n",
              "      <td>0</td>\n",
              "      <td>0</td>\n",
              "      <td>0</td>\n",
              "      <td>0</td>\n",
              "      <td>2</td>\n",
              "      <td>1</td>\n",
              "      <td>0</td>\n",
              "      <td>0</td>\n",
              "      <td>0</td>\n",
              "      <td>0</td>\n",
              "      <td>...</td>\n",
              "      <td>70.70</td>\n",
              "      <td>151.65</td>\n",
              "      <td>1</td>\n",
              "      <td>1</td>\n",
              "      <td>0</td>\n",
              "      <td>0</td>\n",
              "      <td>0</td>\n",
              "      <td>0</td>\n",
              "      <td>1</td>\n",
              "      <td>0</td>\n",
              "    </tr>\n",
              "    <tr>\n",
              "      <th>...</th>\n",
              "      <td>...</td>\n",
              "      <td>...</td>\n",
              "      <td>...</td>\n",
              "      <td>...</td>\n",
              "      <td>...</td>\n",
              "      <td>...</td>\n",
              "      <td>...</td>\n",
              "      <td>...</td>\n",
              "      <td>...</td>\n",
              "      <td>...</td>\n",
              "      <td>...</td>\n",
              "      <td>...</td>\n",
              "      <td>...</td>\n",
              "      <td>...</td>\n",
              "      <td>...</td>\n",
              "      <td>...</td>\n",
              "      <td>...</td>\n",
              "      <td>...</td>\n",
              "      <td>...</td>\n",
              "      <td>...</td>\n",
              "      <td>...</td>\n",
              "    </tr>\n",
              "    <tr>\n",
              "      <th>7038</th>\n",
              "      <td>1</td>\n",
              "      <td>0</td>\n",
              "      <td>1</td>\n",
              "      <td>1</td>\n",
              "      <td>24</td>\n",
              "      <td>1</td>\n",
              "      <td>1</td>\n",
              "      <td>1</td>\n",
              "      <td>0</td>\n",
              "      <td>1</td>\n",
              "      <td>...</td>\n",
              "      <td>84.80</td>\n",
              "      <td>1990.50</td>\n",
              "      <td>0</td>\n",
              "      <td>0</td>\n",
              "      <td>0</td>\n",
              "      <td>1</td>\n",
              "      <td>0</td>\n",
              "      <td>0</td>\n",
              "      <td>0</td>\n",
              "      <td>1</td>\n",
              "    </tr>\n",
              "    <tr>\n",
              "      <th>7039</th>\n",
              "      <td>0</td>\n",
              "      <td>0</td>\n",
              "      <td>1</td>\n",
              "      <td>1</td>\n",
              "      <td>72</td>\n",
              "      <td>1</td>\n",
              "      <td>1</td>\n",
              "      <td>0</td>\n",
              "      <td>1</td>\n",
              "      <td>1</td>\n",
              "      <td>...</td>\n",
              "      <td>103.20</td>\n",
              "      <td>7362.90</td>\n",
              "      <td>0</td>\n",
              "      <td>1</td>\n",
              "      <td>0</td>\n",
              "      <td>1</td>\n",
              "      <td>0</td>\n",
              "      <td>1</td>\n",
              "      <td>0</td>\n",
              "      <td>0</td>\n",
              "    </tr>\n",
              "    <tr>\n",
              "      <th>7040</th>\n",
              "      <td>0</td>\n",
              "      <td>0</td>\n",
              "      <td>1</td>\n",
              "      <td>1</td>\n",
              "      <td>11</td>\n",
              "      <td>0</td>\n",
              "      <td>0</td>\n",
              "      <td>1</td>\n",
              "      <td>0</td>\n",
              "      <td>0</td>\n",
              "      <td>...</td>\n",
              "      <td>29.60</td>\n",
              "      <td>346.45</td>\n",
              "      <td>0</td>\n",
              "      <td>0</td>\n",
              "      <td>0</td>\n",
              "      <td>0</td>\n",
              "      <td>0</td>\n",
              "      <td>0</td>\n",
              "      <td>1</td>\n",
              "      <td>0</td>\n",
              "    </tr>\n",
              "    <tr>\n",
              "      <th>7041</th>\n",
              "      <td>1</td>\n",
              "      <td>1</td>\n",
              "      <td>1</td>\n",
              "      <td>0</td>\n",
              "      <td>4</td>\n",
              "      <td>1</td>\n",
              "      <td>1</td>\n",
              "      <td>0</td>\n",
              "      <td>0</td>\n",
              "      <td>0</td>\n",
              "      <td>...</td>\n",
              "      <td>74.40</td>\n",
              "      <td>306.60</td>\n",
              "      <td>1</td>\n",
              "      <td>1</td>\n",
              "      <td>0</td>\n",
              "      <td>0</td>\n",
              "      <td>0</td>\n",
              "      <td>0</td>\n",
              "      <td>0</td>\n",
              "      <td>1</td>\n",
              "    </tr>\n",
              "    <tr>\n",
              "      <th>7042</th>\n",
              "      <td>1</td>\n",
              "      <td>0</td>\n",
              "      <td>0</td>\n",
              "      <td>0</td>\n",
              "      <td>66</td>\n",
              "      <td>1</td>\n",
              "      <td>0</td>\n",
              "      <td>1</td>\n",
              "      <td>0</td>\n",
              "      <td>1</td>\n",
              "      <td>...</td>\n",
              "      <td>105.65</td>\n",
              "      <td>6844.50</td>\n",
              "      <td>0</td>\n",
              "      <td>1</td>\n",
              "      <td>0</td>\n",
              "      <td>0</td>\n",
              "      <td>1</td>\n",
              "      <td>0</td>\n",
              "      <td>0</td>\n",
              "      <td>0</td>\n",
              "    </tr>\n",
              "  </tbody>\n",
              "</table>\n",
              "<p>7043 rows × 24 columns</p>\n",
              "</div>\n",
              "      <button class=\"colab-df-convert\" onclick=\"convertToInteractive('df-0449e48e-aa24-4388-8052-6c189783eae9')\"\n",
              "              title=\"Convert this dataframe to an interactive table.\"\n",
              "              style=\"display:none;\">\n",
              "        \n",
              "  <svg xmlns=\"http://www.w3.org/2000/svg\" height=\"24px\"viewBox=\"0 0 24 24\"\n",
              "       width=\"24px\">\n",
              "    <path d=\"M0 0h24v24H0V0z\" fill=\"none\"/>\n",
              "    <path d=\"M18.56 5.44l.94 2.06.94-2.06 2.06-.94-2.06-.94-.94-2.06-.94 2.06-2.06.94zm-11 1L8.5 8.5l.94-2.06 2.06-.94-2.06-.94L8.5 2.5l-.94 2.06-2.06.94zm10 10l.94 2.06.94-2.06 2.06-.94-2.06-.94-.94-2.06-.94 2.06-2.06.94z\"/><path d=\"M17.41 7.96l-1.37-1.37c-.4-.4-.92-.59-1.43-.59-.52 0-1.04.2-1.43.59L10.3 9.45l-7.72 7.72c-.78.78-.78 2.05 0 2.83L4 21.41c.39.39.9.59 1.41.59.51 0 1.02-.2 1.41-.59l7.78-7.78 2.81-2.81c.8-.78.8-2.07 0-2.86zM5.41 20L4 18.59l7.72-7.72 1.47 1.35L5.41 20z\"/>\n",
              "  </svg>\n",
              "      </button>\n",
              "      \n",
              "  <style>\n",
              "    .colab-df-container {\n",
              "      display:flex;\n",
              "      flex-wrap:wrap;\n",
              "      gap: 12px;\n",
              "    }\n",
              "\n",
              "    .colab-df-convert {\n",
              "      background-color: #E8F0FE;\n",
              "      border: none;\n",
              "      border-radius: 50%;\n",
              "      cursor: pointer;\n",
              "      display: none;\n",
              "      fill: #1967D2;\n",
              "      height: 32px;\n",
              "      padding: 0 0 0 0;\n",
              "      width: 32px;\n",
              "    }\n",
              "\n",
              "    .colab-df-convert:hover {\n",
              "      background-color: #E2EBFA;\n",
              "      box-shadow: 0px 1px 2px rgba(60, 64, 67, 0.3), 0px 1px 3px 1px rgba(60, 64, 67, 0.15);\n",
              "      fill: #174EA6;\n",
              "    }\n",
              "\n",
              "    [theme=dark] .colab-df-convert {\n",
              "      background-color: #3B4455;\n",
              "      fill: #D2E3FC;\n",
              "    }\n",
              "\n",
              "    [theme=dark] .colab-df-convert:hover {\n",
              "      background-color: #434B5C;\n",
              "      box-shadow: 0px 1px 3px 1px rgba(0, 0, 0, 0.15);\n",
              "      filter: drop-shadow(0px 1px 2px rgba(0, 0, 0, 0.3));\n",
              "      fill: #FFFFFF;\n",
              "    }\n",
              "  </style>\n",
              "\n",
              "      <script>\n",
              "        const buttonEl =\n",
              "          document.querySelector('#df-0449e48e-aa24-4388-8052-6c189783eae9 button.colab-df-convert');\n",
              "        buttonEl.style.display =\n",
              "          google.colab.kernel.accessAllowed ? 'block' : 'none';\n",
              "\n",
              "        async function convertToInteractive(key) {\n",
              "          const element = document.querySelector('#df-0449e48e-aa24-4388-8052-6c189783eae9');\n",
              "          const dataTable =\n",
              "            await google.colab.kernel.invokeFunction('convertToInteractive',\n",
              "                                                     [key], {});\n",
              "          if (!dataTable) return;\n",
              "\n",
              "          const docLinkHtml = 'Like what you see? Visit the ' +\n",
              "            '<a target=\"_blank\" href=https://colab.research.google.com/notebooks/data_table.ipynb>data table notebook</a>'\n",
              "            + ' to learn more about interactive tables.';\n",
              "          element.innerHTML = '';\n",
              "          dataTable['output_type'] = 'display_data';\n",
              "          await google.colab.output.renderOutput(dataTable, element);\n",
              "          const docLink = document.createElement('div');\n",
              "          docLink.innerHTML = docLinkHtml;\n",
              "          element.appendChild(docLink);\n",
              "        }\n",
              "      </script>\n",
              "    </div>\n",
              "  </div>\n",
              "  "
            ]
          },
          "metadata": {},
          "execution_count": 132
        }
      ]
    },
    {
      "cell_type": "code",
      "source": [
        "customer_churn_df = pd.get_dummies(data=customer_churn_df, columns=['InternetService', 'Contract', 'PaymentMethod'], drop_first=True)\n",
        "customer_churn_df"
      ],
      "metadata": {
        "colab": {
          "base_uri": "https://localhost:8080/",
          "height": 505
        },
        "id": "tp5QguXe1K0R",
        "outputId": "25f9dd8f-b00e-49d5-ec90-0ff138c27c46"
      },
      "execution_count": 133,
      "outputs": [
        {
          "output_type": "execute_result",
          "data": {
            "text/plain": [
              "      gender  SeniorCitizen  Partner  Dependents  tenure  PhoneService  \\\n",
              "0          0              0        1           0       1             0   \n",
              "1          1              0        0           0      34             1   \n",
              "2          1              0        0           0       2             1   \n",
              "3          1              0        0           0      45             0   \n",
              "4          0              0        0           0       2             1   \n",
              "...      ...            ...      ...         ...     ...           ...   \n",
              "7038       1              0        1           1      24             1   \n",
              "7039       0              0        1           1      72             1   \n",
              "7040       0              0        1           1      11             0   \n",
              "7041       1              1        1           0       4             1   \n",
              "7042       1              0        0           0      66             1   \n",
              "\n",
              "      MultipleLines  OnlineSecurity  OnlineBackup  DeviceProtection  ...  \\\n",
              "0                 0               0             1                 0  ...   \n",
              "1                 0               1             0                 1  ...   \n",
              "2                 0               1             1                 0  ...   \n",
              "3                 0               1             0                 1  ...   \n",
              "4                 0               0             0                 0  ...   \n",
              "...             ...             ...           ...               ...  ...   \n",
              "7038              1               1             0                 1  ...   \n",
              "7039              1               0             1                 1  ...   \n",
              "7040              0               1             0                 0  ...   \n",
              "7041              1               0             0                 0  ...   \n",
              "7042              0               1             0                 1  ...   \n",
              "\n",
              "      MonthlyCharges  TotalCharges  Churn  InternetService_Fiber optic  \\\n",
              "0              29.85         29.85      0                            0   \n",
              "1              56.95       1889.50      0                            0   \n",
              "2              53.85        108.15      1                            0   \n",
              "3              42.30       1840.75      0                            0   \n",
              "4              70.70        151.65      1                            1   \n",
              "...              ...           ...    ...                          ...   \n",
              "7038           84.80       1990.50      0                            0   \n",
              "7039          103.20       7362.90      0                            1   \n",
              "7040           29.60        346.45      0                            0   \n",
              "7041           74.40        306.60      1                            1   \n",
              "7042          105.65       6844.50      0                            1   \n",
              "\n",
              "      InternetService_No  Contract_One year  Contract_Two year  \\\n",
              "0                      0                  0                  0   \n",
              "1                      0                  1                  0   \n",
              "2                      0                  0                  0   \n",
              "3                      0                  1                  0   \n",
              "4                      0                  0                  0   \n",
              "...                  ...                ...                ...   \n",
              "7038                   0                  1                  0   \n",
              "7039                   0                  1                  0   \n",
              "7040                   0                  0                  0   \n",
              "7041                   0                  0                  0   \n",
              "7042                   0                  0                  1   \n",
              "\n",
              "      PaymentMethod_Credit card (automatic)  PaymentMethod_Electronic check  \\\n",
              "0                                         0                               1   \n",
              "1                                         0                               0   \n",
              "2                                         0                               0   \n",
              "3                                         0                               0   \n",
              "4                                         0                               1   \n",
              "...                                     ...                             ...   \n",
              "7038                                      0                               0   \n",
              "7039                                      1                               0   \n",
              "7040                                      0                               1   \n",
              "7041                                      0                               0   \n",
              "7042                                      0                               0   \n",
              "\n",
              "      PaymentMethod_Mailed check  \n",
              "0                              0  \n",
              "1                              1  \n",
              "2                              1  \n",
              "3                              0  \n",
              "4                              0  \n",
              "...                          ...  \n",
              "7038                           1  \n",
              "7039                           0  \n",
              "7040                           0  \n",
              "7041                           1  \n",
              "7042                           0  \n",
              "\n",
              "[7043 rows x 24 columns]"
            ],
            "text/html": [
              "\n",
              "  <div id=\"df-1c5894ce-4c7d-426b-9f42-eb029f2b220d\">\n",
              "    <div class=\"colab-df-container\">\n",
              "      <div>\n",
              "<style scoped>\n",
              "    .dataframe tbody tr th:only-of-type {\n",
              "        vertical-align: middle;\n",
              "    }\n",
              "\n",
              "    .dataframe tbody tr th {\n",
              "        vertical-align: top;\n",
              "    }\n",
              "\n",
              "    .dataframe thead th {\n",
              "        text-align: right;\n",
              "    }\n",
              "</style>\n",
              "<table border=\"1\" class=\"dataframe\">\n",
              "  <thead>\n",
              "    <tr style=\"text-align: right;\">\n",
              "      <th></th>\n",
              "      <th>gender</th>\n",
              "      <th>SeniorCitizen</th>\n",
              "      <th>Partner</th>\n",
              "      <th>Dependents</th>\n",
              "      <th>tenure</th>\n",
              "      <th>PhoneService</th>\n",
              "      <th>MultipleLines</th>\n",
              "      <th>OnlineSecurity</th>\n",
              "      <th>OnlineBackup</th>\n",
              "      <th>DeviceProtection</th>\n",
              "      <th>...</th>\n",
              "      <th>MonthlyCharges</th>\n",
              "      <th>TotalCharges</th>\n",
              "      <th>Churn</th>\n",
              "      <th>InternetService_Fiber optic</th>\n",
              "      <th>InternetService_No</th>\n",
              "      <th>Contract_One year</th>\n",
              "      <th>Contract_Two year</th>\n",
              "      <th>PaymentMethod_Credit card (automatic)</th>\n",
              "      <th>PaymentMethod_Electronic check</th>\n",
              "      <th>PaymentMethod_Mailed check</th>\n",
              "    </tr>\n",
              "  </thead>\n",
              "  <tbody>\n",
              "    <tr>\n",
              "      <th>0</th>\n",
              "      <td>0</td>\n",
              "      <td>0</td>\n",
              "      <td>1</td>\n",
              "      <td>0</td>\n",
              "      <td>1</td>\n",
              "      <td>0</td>\n",
              "      <td>0</td>\n",
              "      <td>0</td>\n",
              "      <td>1</td>\n",
              "      <td>0</td>\n",
              "      <td>...</td>\n",
              "      <td>29.85</td>\n",
              "      <td>29.85</td>\n",
              "      <td>0</td>\n",
              "      <td>0</td>\n",
              "      <td>0</td>\n",
              "      <td>0</td>\n",
              "      <td>0</td>\n",
              "      <td>0</td>\n",
              "      <td>1</td>\n",
              "      <td>0</td>\n",
              "    </tr>\n",
              "    <tr>\n",
              "      <th>1</th>\n",
              "      <td>1</td>\n",
              "      <td>0</td>\n",
              "      <td>0</td>\n",
              "      <td>0</td>\n",
              "      <td>34</td>\n",
              "      <td>1</td>\n",
              "      <td>0</td>\n",
              "      <td>1</td>\n",
              "      <td>0</td>\n",
              "      <td>1</td>\n",
              "      <td>...</td>\n",
              "      <td>56.95</td>\n",
              "      <td>1889.50</td>\n",
              "      <td>0</td>\n",
              "      <td>0</td>\n",
              "      <td>0</td>\n",
              "      <td>1</td>\n",
              "      <td>0</td>\n",
              "      <td>0</td>\n",
              "      <td>0</td>\n",
              "      <td>1</td>\n",
              "    </tr>\n",
              "    <tr>\n",
              "      <th>2</th>\n",
              "      <td>1</td>\n",
              "      <td>0</td>\n",
              "      <td>0</td>\n",
              "      <td>0</td>\n",
              "      <td>2</td>\n",
              "      <td>1</td>\n",
              "      <td>0</td>\n",
              "      <td>1</td>\n",
              "      <td>1</td>\n",
              "      <td>0</td>\n",
              "      <td>...</td>\n",
              "      <td>53.85</td>\n",
              "      <td>108.15</td>\n",
              "      <td>1</td>\n",
              "      <td>0</td>\n",
              "      <td>0</td>\n",
              "      <td>0</td>\n",
              "      <td>0</td>\n",
              "      <td>0</td>\n",
              "      <td>0</td>\n",
              "      <td>1</td>\n",
              "    </tr>\n",
              "    <tr>\n",
              "      <th>3</th>\n",
              "      <td>1</td>\n",
              "      <td>0</td>\n",
              "      <td>0</td>\n",
              "      <td>0</td>\n",
              "      <td>45</td>\n",
              "      <td>0</td>\n",
              "      <td>0</td>\n",
              "      <td>1</td>\n",
              "      <td>0</td>\n",
              "      <td>1</td>\n",
              "      <td>...</td>\n",
              "      <td>42.30</td>\n",
              "      <td>1840.75</td>\n",
              "      <td>0</td>\n",
              "      <td>0</td>\n",
              "      <td>0</td>\n",
              "      <td>1</td>\n",
              "      <td>0</td>\n",
              "      <td>0</td>\n",
              "      <td>0</td>\n",
              "      <td>0</td>\n",
              "    </tr>\n",
              "    <tr>\n",
              "      <th>4</th>\n",
              "      <td>0</td>\n",
              "      <td>0</td>\n",
              "      <td>0</td>\n",
              "      <td>0</td>\n",
              "      <td>2</td>\n",
              "      <td>1</td>\n",
              "      <td>0</td>\n",
              "      <td>0</td>\n",
              "      <td>0</td>\n",
              "      <td>0</td>\n",
              "      <td>...</td>\n",
              "      <td>70.70</td>\n",
              "      <td>151.65</td>\n",
              "      <td>1</td>\n",
              "      <td>1</td>\n",
              "      <td>0</td>\n",
              "      <td>0</td>\n",
              "      <td>0</td>\n",
              "      <td>0</td>\n",
              "      <td>1</td>\n",
              "      <td>0</td>\n",
              "    </tr>\n",
              "    <tr>\n",
              "      <th>...</th>\n",
              "      <td>...</td>\n",
              "      <td>...</td>\n",
              "      <td>...</td>\n",
              "      <td>...</td>\n",
              "      <td>...</td>\n",
              "      <td>...</td>\n",
              "      <td>...</td>\n",
              "      <td>...</td>\n",
              "      <td>...</td>\n",
              "      <td>...</td>\n",
              "      <td>...</td>\n",
              "      <td>...</td>\n",
              "      <td>...</td>\n",
              "      <td>...</td>\n",
              "      <td>...</td>\n",
              "      <td>...</td>\n",
              "      <td>...</td>\n",
              "      <td>...</td>\n",
              "      <td>...</td>\n",
              "      <td>...</td>\n",
              "      <td>...</td>\n",
              "    </tr>\n",
              "    <tr>\n",
              "      <th>7038</th>\n",
              "      <td>1</td>\n",
              "      <td>0</td>\n",
              "      <td>1</td>\n",
              "      <td>1</td>\n",
              "      <td>24</td>\n",
              "      <td>1</td>\n",
              "      <td>1</td>\n",
              "      <td>1</td>\n",
              "      <td>0</td>\n",
              "      <td>1</td>\n",
              "      <td>...</td>\n",
              "      <td>84.80</td>\n",
              "      <td>1990.50</td>\n",
              "      <td>0</td>\n",
              "      <td>0</td>\n",
              "      <td>0</td>\n",
              "      <td>1</td>\n",
              "      <td>0</td>\n",
              "      <td>0</td>\n",
              "      <td>0</td>\n",
              "      <td>1</td>\n",
              "    </tr>\n",
              "    <tr>\n",
              "      <th>7039</th>\n",
              "      <td>0</td>\n",
              "      <td>0</td>\n",
              "      <td>1</td>\n",
              "      <td>1</td>\n",
              "      <td>72</td>\n",
              "      <td>1</td>\n",
              "      <td>1</td>\n",
              "      <td>0</td>\n",
              "      <td>1</td>\n",
              "      <td>1</td>\n",
              "      <td>...</td>\n",
              "      <td>103.20</td>\n",
              "      <td>7362.90</td>\n",
              "      <td>0</td>\n",
              "      <td>1</td>\n",
              "      <td>0</td>\n",
              "      <td>1</td>\n",
              "      <td>0</td>\n",
              "      <td>1</td>\n",
              "      <td>0</td>\n",
              "      <td>0</td>\n",
              "    </tr>\n",
              "    <tr>\n",
              "      <th>7040</th>\n",
              "      <td>0</td>\n",
              "      <td>0</td>\n",
              "      <td>1</td>\n",
              "      <td>1</td>\n",
              "      <td>11</td>\n",
              "      <td>0</td>\n",
              "      <td>0</td>\n",
              "      <td>1</td>\n",
              "      <td>0</td>\n",
              "      <td>0</td>\n",
              "      <td>...</td>\n",
              "      <td>29.60</td>\n",
              "      <td>346.45</td>\n",
              "      <td>0</td>\n",
              "      <td>0</td>\n",
              "      <td>0</td>\n",
              "      <td>0</td>\n",
              "      <td>0</td>\n",
              "      <td>0</td>\n",
              "      <td>1</td>\n",
              "      <td>0</td>\n",
              "    </tr>\n",
              "    <tr>\n",
              "      <th>7041</th>\n",
              "      <td>1</td>\n",
              "      <td>1</td>\n",
              "      <td>1</td>\n",
              "      <td>0</td>\n",
              "      <td>4</td>\n",
              "      <td>1</td>\n",
              "      <td>1</td>\n",
              "      <td>0</td>\n",
              "      <td>0</td>\n",
              "      <td>0</td>\n",
              "      <td>...</td>\n",
              "      <td>74.40</td>\n",
              "      <td>306.60</td>\n",
              "      <td>1</td>\n",
              "      <td>1</td>\n",
              "      <td>0</td>\n",
              "      <td>0</td>\n",
              "      <td>0</td>\n",
              "      <td>0</td>\n",
              "      <td>0</td>\n",
              "      <td>1</td>\n",
              "    </tr>\n",
              "    <tr>\n",
              "      <th>7042</th>\n",
              "      <td>1</td>\n",
              "      <td>0</td>\n",
              "      <td>0</td>\n",
              "      <td>0</td>\n",
              "      <td>66</td>\n",
              "      <td>1</td>\n",
              "      <td>0</td>\n",
              "      <td>1</td>\n",
              "      <td>0</td>\n",
              "      <td>1</td>\n",
              "      <td>...</td>\n",
              "      <td>105.65</td>\n",
              "      <td>6844.50</td>\n",
              "      <td>0</td>\n",
              "      <td>1</td>\n",
              "      <td>0</td>\n",
              "      <td>0</td>\n",
              "      <td>1</td>\n",
              "      <td>0</td>\n",
              "      <td>0</td>\n",
              "      <td>0</td>\n",
              "    </tr>\n",
              "  </tbody>\n",
              "</table>\n",
              "<p>7043 rows × 24 columns</p>\n",
              "</div>\n",
              "      <button class=\"colab-df-convert\" onclick=\"convertToInteractive('df-1c5894ce-4c7d-426b-9f42-eb029f2b220d')\"\n",
              "              title=\"Convert this dataframe to an interactive table.\"\n",
              "              style=\"display:none;\">\n",
              "        \n",
              "  <svg xmlns=\"http://www.w3.org/2000/svg\" height=\"24px\"viewBox=\"0 0 24 24\"\n",
              "       width=\"24px\">\n",
              "    <path d=\"M0 0h24v24H0V0z\" fill=\"none\"/>\n",
              "    <path d=\"M18.56 5.44l.94 2.06.94-2.06 2.06-.94-2.06-.94-.94-2.06-.94 2.06-2.06.94zm-11 1L8.5 8.5l.94-2.06 2.06-.94-2.06-.94L8.5 2.5l-.94 2.06-2.06.94zm10 10l.94 2.06.94-2.06 2.06-.94-2.06-.94-.94-2.06-.94 2.06-2.06.94z\"/><path d=\"M17.41 7.96l-1.37-1.37c-.4-.4-.92-.59-1.43-.59-.52 0-1.04.2-1.43.59L10.3 9.45l-7.72 7.72c-.78.78-.78 2.05 0 2.83L4 21.41c.39.39.9.59 1.41.59.51 0 1.02-.2 1.41-.59l7.78-7.78 2.81-2.81c.8-.78.8-2.07 0-2.86zM5.41 20L4 18.59l7.72-7.72 1.47 1.35L5.41 20z\"/>\n",
              "  </svg>\n",
              "      </button>\n",
              "      \n",
              "  <style>\n",
              "    .colab-df-container {\n",
              "      display:flex;\n",
              "      flex-wrap:wrap;\n",
              "      gap: 12px;\n",
              "    }\n",
              "\n",
              "    .colab-df-convert {\n",
              "      background-color: #E8F0FE;\n",
              "      border: none;\n",
              "      border-radius: 50%;\n",
              "      cursor: pointer;\n",
              "      display: none;\n",
              "      fill: #1967D2;\n",
              "      height: 32px;\n",
              "      padding: 0 0 0 0;\n",
              "      width: 32px;\n",
              "    }\n",
              "\n",
              "    .colab-df-convert:hover {\n",
              "      background-color: #E2EBFA;\n",
              "      box-shadow: 0px 1px 2px rgba(60, 64, 67, 0.3), 0px 1px 3px 1px rgba(60, 64, 67, 0.15);\n",
              "      fill: #174EA6;\n",
              "    }\n",
              "\n",
              "    [theme=dark] .colab-df-convert {\n",
              "      background-color: #3B4455;\n",
              "      fill: #D2E3FC;\n",
              "    }\n",
              "\n",
              "    [theme=dark] .colab-df-convert:hover {\n",
              "      background-color: #434B5C;\n",
              "      box-shadow: 0px 1px 3px 1px rgba(0, 0, 0, 0.15);\n",
              "      filter: drop-shadow(0px 1px 2px rgba(0, 0, 0, 0.3));\n",
              "      fill: #FFFFFF;\n",
              "    }\n",
              "  </style>\n",
              "\n",
              "      <script>\n",
              "        const buttonEl =\n",
              "          document.querySelector('#df-1c5894ce-4c7d-426b-9f42-eb029f2b220d button.colab-df-convert');\n",
              "        buttonEl.style.display =\n",
              "          google.colab.kernel.accessAllowed ? 'block' : 'none';\n",
              "\n",
              "        async function convertToInteractive(key) {\n",
              "          const element = document.querySelector('#df-1c5894ce-4c7d-426b-9f42-eb029f2b220d');\n",
              "          const dataTable =\n",
              "            await google.colab.kernel.invokeFunction('convertToInteractive',\n",
              "                                                     [key], {});\n",
              "          if (!dataTable) return;\n",
              "\n",
              "          const docLinkHtml = 'Like what you see? Visit the ' +\n",
              "            '<a target=\"_blank\" href=https://colab.research.google.com/notebooks/data_table.ipynb>data table notebook</a>'\n",
              "            + ' to learn more about interactive tables.';\n",
              "          element.innerHTML = '';\n",
              "          dataTable['output_type'] = 'display_data';\n",
              "          await google.colab.output.renderOutput(dataTable, element);\n",
              "          const docLink = document.createElement('div');\n",
              "          docLink.innerHTML = docLinkHtml;\n",
              "          element.appendChild(docLink);\n",
              "        }\n",
              "      </script>\n",
              "    </div>\n",
              "  </div>\n",
              "  "
            ]
          },
          "metadata": {},
          "execution_count": 133
        }
      ]
    },
    {
      "cell_type": "code",
      "source": [
        "customer_churn_df.dtypes"
      ],
      "metadata": {
        "colab": {
          "base_uri": "https://localhost:8080/"
        },
        "id": "z1kTKYfT5Ads",
        "outputId": "9c090193-ebbd-45e5-d3f5-62e002984729"
      },
      "execution_count": 134,
      "outputs": [
        {
          "output_type": "execute_result",
          "data": {
            "text/plain": [
              "gender                                     int64\n",
              "SeniorCitizen                              int64\n",
              "Partner                                    int64\n",
              "Dependents                                 int64\n",
              "tenure                                     int64\n",
              "PhoneService                               int64\n",
              "MultipleLines                              int64\n",
              "OnlineSecurity                             int64\n",
              "OnlineBackup                               int64\n",
              "DeviceProtection                           int64\n",
              "TechSupport                                int64\n",
              "StreamingTV                                int64\n",
              "StreamingMovies                            int64\n",
              "PaperlessBilling                           int64\n",
              "MonthlyCharges                           float64\n",
              "TotalCharges                             float64\n",
              "Churn                                      int64\n",
              "InternetService_Fiber optic                uint8\n",
              "InternetService_No                         uint8\n",
              "Contract_One year                          uint8\n",
              "Contract_Two year                          uint8\n",
              "PaymentMethod_Credit card (automatic)      uint8\n",
              "PaymentMethod_Electronic check             uint8\n",
              "PaymentMethod_Mailed check                 uint8\n",
              "dtype: object"
            ]
          },
          "metadata": {},
          "execution_count": 134
        }
      ]
    },
    {
      "cell_type": "code",
      "source": [
        "scale = ['tenure', 'MonthlyCharges', 'TotalCharges']\n",
        "\n",
        "from sklearn.preprocessing import StandardScaler\n",
        "scaler = StandardScaler()\n",
        "customer_churn_df[scale] = scaler.fit_transform(customer_churn_df[scale])"
      ],
      "metadata": {
        "id": "XC6Vrbz7-n_c"
      },
      "execution_count": 135,
      "outputs": []
    },
    {
      "cell_type": "code",
      "source": [
        "for col in customer_churn_df:\n",
        "  print(f'{col}: {customer_churn_df[col].unique()}')"
      ],
      "metadata": {
        "colab": {
          "base_uri": "https://localhost:8080/"
        },
        "id": "mVY4HbNhEcxu",
        "outputId": "3655bf16-7a6a-4b55-8162-c6195d806379"
      },
      "execution_count": 136,
      "outputs": [
        {
          "output_type": "stream",
          "name": "stdout",
          "text": [
            "gender: [0 1]\n",
            "SeniorCitizen: [0 1]\n",
            "Partner: [1 0]\n",
            "Dependents: [0 1]\n",
            "tenure: [-1.27744458  0.06632742 -1.23672422  0.51425142 -0.99240204 -0.42231695\n",
            " -0.91096131 -0.17799476  1.2064976  -0.78880022 -0.66663913  1.04361615\n",
            "  0.67713287 -0.30015585  1.49154015  0.79929397  1.57298088 -0.46303731\n",
            " -0.82952058 -0.09655404  0.59569215  1.61370124 -0.62591876 -0.21871513\n",
            " -1.11456313  0.55497178 -0.87024095  1.53226051  1.24721797  0.43281069\n",
            " -0.70735949  1.12505688 -0.5851984   1.36937906 -0.95168167 -1.19600386\n",
            " -0.05583367  0.71785324  1.28793833  0.96217542 -1.0331224   0.39209033\n",
            "  0.10704778  0.63641251 -0.1372744   1.32865869  0.22920887  1.45081979\n",
            " -0.01511331  0.92145506  0.18848851  0.14776815  0.35136997 -1.07384277\n",
            " -1.15528349  0.02560706  1.41009942 -0.38159658  1.00289578  1.16577724\n",
            " -0.74807986 -0.50375767  0.84001433  0.3106496   1.08433651 -0.34087622\n",
            "  0.47353106 -0.54447804  0.88073469  0.7585736  -0.25943549 -1.31816495\n",
            "  0.26992924]\n",
            "PhoneService: [0 1]\n",
            "MultipleLines: [0 1]\n",
            "OnlineSecurity: [0 1]\n",
            "OnlineBackup: [1 0]\n",
            "DeviceProtection: [0 1]\n",
            "TechSupport: [0 1]\n",
            "StreamingTV: [0 1]\n",
            "StreamingMovies: [0 1]\n",
            "PaperlessBilling: [1 0]\n",
            "MonthlyCharges: [-1.16032292 -0.25962894 -0.36266036 ... -0.05522791 -0.68338718\n",
            "  0.46325275]\n",
            "TotalCharges: [-0.99424194 -0.17324413 -0.95967407 ... -0.85446945 -0.87206242\n",
            "  2.01428802]\n",
            "Churn: [0 1]\n",
            "InternetService_Fiber optic: [0 1]\n",
            "InternetService_No: [0 1]\n",
            "Contract_One year: [0 1]\n",
            "Contract_Two year: [0 1]\n",
            "PaymentMethod_Credit card (automatic): [0 1]\n",
            "PaymentMethod_Electronic check: [1 0]\n",
            "PaymentMethod_Mailed check: [0 1]\n"
          ]
        }
      ]
    },
    {
      "cell_type": "markdown",
      "source": [
        "Train test split"
      ],
      "metadata": {
        "id": "z2vlhQVwFiXM"
      }
    },
    {
      "cell_type": "code",
      "source": [
        "X = customer_churn_df.drop('Churn', axis=1)\n",
        "y = customer_churn_df['Churn']"
      ],
      "metadata": {
        "id": "LGqiSZHjFjRI"
      },
      "execution_count": 42,
      "outputs": []
    },
    {
      "cell_type": "code",
      "source": [
        "from sklearn.model_selection import train_test_split\n",
        "X_train, X_test, y_train, y_test = train_test_split(X,y, test_size=0.2, random_state=42)"
      ],
      "metadata": {
        "id": "GIAdC-upGTs_"
      },
      "execution_count": 43,
      "outputs": []
    },
    {
      "cell_type": "code",
      "source": [
        "X.shape, X_train.shape, X_test.shape"
      ],
      "metadata": {
        "colab": {
          "base_uri": "https://localhost:8080/"
        },
        "id": "iTuh7DJVG208",
        "outputId": "3d9f4dc0-792f-4d17-f71a-c130b7957844"
      },
      "execution_count": 44,
      "outputs": [
        {
          "output_type": "execute_result",
          "data": {
            "text/plain": [
              "((7043, 23), (5634, 23), (1409, 23))"
            ]
          },
          "metadata": {},
          "execution_count": 44
        }
      ]
    },
    {
      "cell_type": "markdown",
      "source": [
        "# ANN Model "
      ],
      "metadata": {
        "id": "_VyTv4hp2CRd"
      }
    },
    {
      "cell_type": "code",
      "source": [
        "!pip install tensorflow-gpu"
      ],
      "metadata": {
        "colab": {
          "base_uri": "https://localhost:8080/"
        },
        "id": "ixi5U7SL2sJS",
        "outputId": "da2b474b-7dd0-46a7-ae28-c148f11fa25f"
      },
      "execution_count": 45,
      "outputs": [
        {
          "output_type": "stream",
          "name": "stdout",
          "text": [
            "Looking in indexes: https://pypi.org/simple, https://us-python.pkg.dev/colab-wheels/public/simple/\n",
            "Collecting tensorflow-gpu\n",
            "  Downloading tensorflow_gpu-2.9.1-cp37-cp37m-manylinux_2_17_x86_64.manylinux2014_x86_64.whl (511.7 MB)\n",
            "\u001b[K     |████████████████████████████████| 511.7 MB 6.5 kB/s \n",
            "\u001b[?25hRequirement already satisfied: keras-preprocessing>=1.1.1 in /usr/local/lib/python3.7/dist-packages (from tensorflow-gpu) (1.1.2)\n",
            "Requirement already satisfied: google-pasta>=0.1.1 in /usr/local/lib/python3.7/dist-packages (from tensorflow-gpu) (0.2.0)\n",
            "Requirement already satisfied: wrapt>=1.11.0 in /usr/local/lib/python3.7/dist-packages (from tensorflow-gpu) (1.14.1)\n",
            "Requirement already satisfied: packaging in /usr/local/lib/python3.7/dist-packages (from tensorflow-gpu) (21.3)\n",
            "Requirement already satisfied: absl-py>=1.0.0 in /usr/local/lib/python3.7/dist-packages (from tensorflow-gpu) (1.2.0)\n",
            "Requirement already satisfied: opt-einsum>=2.3.2 in /usr/local/lib/python3.7/dist-packages (from tensorflow-gpu) (3.3.0)\n",
            "Requirement already satisfied: grpcio<2.0,>=1.24.3 in /usr/local/lib/python3.7/dist-packages (from tensorflow-gpu) (1.47.0)\n",
            "Requirement already satisfied: numpy>=1.20 in /usr/local/lib/python3.7/dist-packages (from tensorflow-gpu) (1.21.6)\n",
            "Collecting tensorflow-estimator<2.10.0,>=2.9.0rc0\n",
            "  Downloading tensorflow_estimator-2.9.0-py2.py3-none-any.whl (438 kB)\n",
            "\u001b[K     |████████████████████████████████| 438 kB 67.9 MB/s \n",
            "\u001b[?25hCollecting flatbuffers<2,>=1.12\n",
            "  Downloading flatbuffers-1.12-py2.py3-none-any.whl (15 kB)\n",
            "Requirement already satisfied: tensorflow-io-gcs-filesystem>=0.23.1 in /usr/local/lib/python3.7/dist-packages (from tensorflow-gpu) (0.26.0)\n",
            "Collecting keras<2.10.0,>=2.9.0rc0\n",
            "  Downloading keras-2.9.0-py2.py3-none-any.whl (1.6 MB)\n",
            "\u001b[K     |████████████████████████████████| 1.6 MB 50.1 MB/s \n",
            "\u001b[?25hCollecting tensorboard<2.10,>=2.9\n",
            "  Downloading tensorboard-2.9.1-py3-none-any.whl (5.8 MB)\n",
            "\u001b[K     |████████████████████████████████| 5.8 MB 57.5 MB/s \n",
            "\u001b[?25hRequirement already satisfied: astunparse>=1.6.0 in /usr/local/lib/python3.7/dist-packages (from tensorflow-gpu) (1.6.3)\n",
            "Requirement already satisfied: typing-extensions>=3.6.6 in /usr/local/lib/python3.7/dist-packages (from tensorflow-gpu) (4.1.1)\n",
            "Collecting gast<=0.4.0,>=0.2.1\n",
            "  Downloading gast-0.4.0-py3-none-any.whl (9.8 kB)\n",
            "Requirement already satisfied: libclang>=13.0.0 in /usr/local/lib/python3.7/dist-packages (from tensorflow-gpu) (14.0.6)\n",
            "Requirement already satisfied: termcolor>=1.1.0 in /usr/local/lib/python3.7/dist-packages (from tensorflow-gpu) (1.1.0)\n",
            "Requirement already satisfied: h5py>=2.9.0 in /usr/local/lib/python3.7/dist-packages (from tensorflow-gpu) (3.1.0)\n",
            "Requirement already satisfied: six>=1.12.0 in /usr/local/lib/python3.7/dist-packages (from tensorflow-gpu) (1.15.0)\n",
            "Requirement already satisfied: protobuf<3.20,>=3.9.2 in /usr/local/lib/python3.7/dist-packages (from tensorflow-gpu) (3.17.3)\n",
            "Requirement already satisfied: setuptools in /usr/local/lib/python3.7/dist-packages (from tensorflow-gpu) (57.4.0)\n",
            "Requirement already satisfied: wheel<1.0,>=0.23.0 in /usr/local/lib/python3.7/dist-packages (from astunparse>=1.6.0->tensorflow-gpu) (0.37.1)\n",
            "Requirement already satisfied: cached-property in /usr/local/lib/python3.7/dist-packages (from h5py>=2.9.0->tensorflow-gpu) (1.5.2)\n",
            "Requirement already satisfied: markdown>=2.6.8 in /usr/local/lib/python3.7/dist-packages (from tensorboard<2.10,>=2.9->tensorflow-gpu) (3.4.1)\n",
            "Requirement already satisfied: google-auth-oauthlib<0.5,>=0.4.1 in /usr/local/lib/python3.7/dist-packages (from tensorboard<2.10,>=2.9->tensorflow-gpu) (0.4.6)\n",
            "Requirement already satisfied: werkzeug>=1.0.1 in /usr/local/lib/python3.7/dist-packages (from tensorboard<2.10,>=2.9->tensorflow-gpu) (1.0.1)\n",
            "Requirement already satisfied: tensorboard-data-server<0.7.0,>=0.6.0 in /usr/local/lib/python3.7/dist-packages (from tensorboard<2.10,>=2.9->tensorflow-gpu) (0.6.1)\n",
            "Requirement already satisfied: tensorboard-plugin-wit>=1.6.0 in /usr/local/lib/python3.7/dist-packages (from tensorboard<2.10,>=2.9->tensorflow-gpu) (1.8.1)\n",
            "Requirement already satisfied: google-auth<3,>=1.6.3 in /usr/local/lib/python3.7/dist-packages (from tensorboard<2.10,>=2.9->tensorflow-gpu) (1.35.0)\n",
            "Requirement already satisfied: requests<3,>=2.21.0 in /usr/local/lib/python3.7/dist-packages (from tensorboard<2.10,>=2.9->tensorflow-gpu) (2.23.0)\n",
            "Requirement already satisfied: cachetools<5.0,>=2.0.0 in /usr/local/lib/python3.7/dist-packages (from google-auth<3,>=1.6.3->tensorboard<2.10,>=2.9->tensorflow-gpu) (4.2.4)\n",
            "Requirement already satisfied: pyasn1-modules>=0.2.1 in /usr/local/lib/python3.7/dist-packages (from google-auth<3,>=1.6.3->tensorboard<2.10,>=2.9->tensorflow-gpu) (0.2.8)\n",
            "Requirement already satisfied: rsa<5,>=3.1.4 in /usr/local/lib/python3.7/dist-packages (from google-auth<3,>=1.6.3->tensorboard<2.10,>=2.9->tensorflow-gpu) (4.9)\n",
            "Requirement already satisfied: requests-oauthlib>=0.7.0 in /usr/local/lib/python3.7/dist-packages (from google-auth-oauthlib<0.5,>=0.4.1->tensorboard<2.10,>=2.9->tensorflow-gpu) (1.3.1)\n",
            "Requirement already satisfied: importlib-metadata>=4.4 in /usr/local/lib/python3.7/dist-packages (from markdown>=2.6.8->tensorboard<2.10,>=2.9->tensorflow-gpu) (4.12.0)\n",
            "Requirement already satisfied: zipp>=0.5 in /usr/local/lib/python3.7/dist-packages (from importlib-metadata>=4.4->markdown>=2.6.8->tensorboard<2.10,>=2.9->tensorflow-gpu) (3.8.1)\n",
            "Requirement already satisfied: pyasn1<0.5.0,>=0.4.6 in /usr/local/lib/python3.7/dist-packages (from pyasn1-modules>=0.2.1->google-auth<3,>=1.6.3->tensorboard<2.10,>=2.9->tensorflow-gpu) (0.4.8)\n",
            "Requirement already satisfied: idna<3,>=2.5 in /usr/local/lib/python3.7/dist-packages (from requests<3,>=2.21.0->tensorboard<2.10,>=2.9->tensorflow-gpu) (2.10)\n",
            "Requirement already satisfied: certifi>=2017.4.17 in /usr/local/lib/python3.7/dist-packages (from requests<3,>=2.21.0->tensorboard<2.10,>=2.9->tensorflow-gpu) (2022.6.15)\n",
            "Requirement already satisfied: urllib3!=1.25.0,!=1.25.1,<1.26,>=1.21.1 in /usr/local/lib/python3.7/dist-packages (from requests<3,>=2.21.0->tensorboard<2.10,>=2.9->tensorflow-gpu) (1.24.3)\n",
            "Requirement already satisfied: chardet<4,>=3.0.2 in /usr/local/lib/python3.7/dist-packages (from requests<3,>=2.21.0->tensorboard<2.10,>=2.9->tensorflow-gpu) (3.0.4)\n",
            "Requirement already satisfied: oauthlib>=3.0.0 in /usr/local/lib/python3.7/dist-packages (from requests-oauthlib>=0.7.0->google-auth-oauthlib<0.5,>=0.4.1->tensorboard<2.10,>=2.9->tensorflow-gpu) (3.2.0)\n",
            "Requirement already satisfied: pyparsing!=3.0.5,>=2.0.2 in /usr/local/lib/python3.7/dist-packages (from packaging->tensorflow-gpu) (3.0.9)\n",
            "Installing collected packages: tensorflow-estimator, tensorboard, keras, gast, flatbuffers, tensorflow-gpu\n",
            "  Attempting uninstall: tensorflow-estimator\n",
            "    Found existing installation: tensorflow-estimator 2.8.0\n",
            "    Uninstalling tensorflow-estimator-2.8.0:\n",
            "      Successfully uninstalled tensorflow-estimator-2.8.0\n",
            "  Attempting uninstall: tensorboard\n",
            "    Found existing installation: tensorboard 2.8.0\n",
            "    Uninstalling tensorboard-2.8.0:\n",
            "      Successfully uninstalled tensorboard-2.8.0\n",
            "  Attempting uninstall: keras\n",
            "    Found existing installation: keras 2.8.0\n",
            "    Uninstalling keras-2.8.0:\n",
            "      Successfully uninstalled keras-2.8.0\n",
            "  Attempting uninstall: gast\n",
            "    Found existing installation: gast 0.5.3\n",
            "    Uninstalling gast-0.5.3:\n",
            "      Successfully uninstalled gast-0.5.3\n",
            "  Attempting uninstall: flatbuffers\n",
            "    Found existing installation: flatbuffers 2.0\n",
            "    Uninstalling flatbuffers-2.0:\n",
            "      Successfully uninstalled flatbuffers-2.0\n",
            "\u001b[31mERROR: pip's dependency resolver does not currently take into account all the packages that are installed. This behaviour is the source of the following dependency conflicts.\n",
            "tensorflow 2.8.2+zzzcolab20220719082949 requires keras<2.9,>=2.8.0rc0, but you have keras 2.9.0 which is incompatible.\n",
            "tensorflow 2.8.2+zzzcolab20220719082949 requires tensorboard<2.9,>=2.8, but you have tensorboard 2.9.1 which is incompatible.\n",
            "tensorflow 2.8.2+zzzcolab20220719082949 requires tensorflow-estimator<2.9,>=2.8, but you have tensorflow-estimator 2.9.0 which is incompatible.\u001b[0m\n",
            "Successfully installed flatbuffers-1.12 gast-0.4.0 keras-2.9.0 tensorboard-2.9.1 tensorflow-estimator-2.9.0 tensorflow-gpu-2.9.1\n"
          ]
        }
      ]
    },
    {
      "cell_type": "code",
      "source": [
        "import tensorflow as tf\n",
        "from tensorflow import keras"
      ],
      "metadata": {
        "id": "gGokjZuJ3byq"
      },
      "execution_count": 46,
      "outputs": []
    },
    {
      "cell_type": "code",
      "source": [
        "model = keras.Sequential([\n",
        "    keras.layers.Dense(23, input_shape=(23,), activation='relu'),\n",
        "    # keras.layers.Dropout(0.5),\n",
        "    keras.layers.Dense(12, activation='relu'),\n",
        "    # keras.layers.Dropout(0.5),\n",
        "    keras.layers.Dense(1, activation='sigmoid')\n",
        "])\n",
        "\n",
        "# opt = keras.optimizers.Adam(learning_rate=0.01)\n",
        "\n",
        "model.compile(optimizer='adam', loss='binary_crossentropy', metrics=['accuracy'])\n",
        "\n",
        "model_history = model.fit(X_train, y_train, validation_split=0.2, epochs=100)"
      ],
      "metadata": {
        "colab": {
          "base_uri": "https://localhost:8080/"
        },
        "id": "pGB25GmL4tlL",
        "outputId": "85ef0650-98d8-4d92-db96-621b685dfcab"
      },
      "execution_count": 47,
      "outputs": [
        {
          "output_type": "stream",
          "name": "stdout",
          "text": [
            "Epoch 1/100\n",
            "141/141 [==============================] - 3s 5ms/step - loss: 0.5066 - accuracy: 0.7273 - val_loss: 0.4319 - val_accuracy: 0.7968\n",
            "Epoch 2/100\n",
            "141/141 [==============================] - 0s 3ms/step - loss: 0.4330 - accuracy: 0.7943 - val_loss: 0.4233 - val_accuracy: 0.8030\n",
            "Epoch 3/100\n",
            "141/141 [==============================] - 0s 3ms/step - loss: 0.4275 - accuracy: 0.7957 - val_loss: 0.4197 - val_accuracy: 0.8083\n",
            "Epoch 4/100\n",
            "141/141 [==============================] - 0s 3ms/step - loss: 0.4236 - accuracy: 0.7968 - val_loss: 0.4175 - val_accuracy: 0.8119\n",
            "Epoch 5/100\n",
            "141/141 [==============================] - 1s 4ms/step - loss: 0.4211 - accuracy: 0.7968 - val_loss: 0.4164 - val_accuracy: 0.8048\n",
            "Epoch 6/100\n",
            "141/141 [==============================] - 1s 6ms/step - loss: 0.4194 - accuracy: 0.7999 - val_loss: 0.4151 - val_accuracy: 0.7995\n",
            "Epoch 7/100\n",
            "141/141 [==============================] - 1s 6ms/step - loss: 0.4185 - accuracy: 0.7965 - val_loss: 0.4144 - val_accuracy: 0.8004\n",
            "Epoch 8/100\n",
            "141/141 [==============================] - 1s 6ms/step - loss: 0.4183 - accuracy: 0.8010 - val_loss: 0.4112 - val_accuracy: 0.8083\n",
            "Epoch 9/100\n",
            "141/141 [==============================] - 1s 7ms/step - loss: 0.4156 - accuracy: 0.8010 - val_loss: 0.4104 - val_accuracy: 0.8030\n",
            "Epoch 10/100\n",
            "141/141 [==============================] - 1s 6ms/step - loss: 0.4142 - accuracy: 0.8025 - val_loss: 0.4126 - val_accuracy: 0.8048\n",
            "Epoch 11/100\n",
            "141/141 [==============================] - 1s 6ms/step - loss: 0.4139 - accuracy: 0.8021 - val_loss: 0.4102 - val_accuracy: 0.8083\n",
            "Epoch 12/100\n",
            "141/141 [==============================] - 1s 7ms/step - loss: 0.4133 - accuracy: 0.8023 - val_loss: 0.4117 - val_accuracy: 0.8066\n",
            "Epoch 13/100\n",
            "141/141 [==============================] - 1s 6ms/step - loss: 0.4125 - accuracy: 0.8025 - val_loss: 0.4104 - val_accuracy: 0.7968\n",
            "Epoch 14/100\n",
            "141/141 [==============================] - 1s 5ms/step - loss: 0.4114 - accuracy: 0.8041 - val_loss: 0.4103 - val_accuracy: 0.8057\n",
            "Epoch 15/100\n",
            "141/141 [==============================] - 1s 5ms/step - loss: 0.4102 - accuracy: 0.8074 - val_loss: 0.4099 - val_accuracy: 0.8039\n",
            "Epoch 16/100\n",
            "141/141 [==============================] - 1s 5ms/step - loss: 0.4098 - accuracy: 0.8063 - val_loss: 0.4092 - val_accuracy: 0.7977\n",
            "Epoch 17/100\n",
            "141/141 [==============================] - 1s 7ms/step - loss: 0.4088 - accuracy: 0.8054 - val_loss: 0.4093 - val_accuracy: 0.7950\n",
            "Epoch 18/100\n",
            "141/141 [==============================] - 1s 6ms/step - loss: 0.4083 - accuracy: 0.8099 - val_loss: 0.4078 - val_accuracy: 0.8048\n",
            "Epoch 19/100\n",
            "141/141 [==============================] - 1s 8ms/step - loss: 0.4076 - accuracy: 0.8085 - val_loss: 0.4079 - val_accuracy: 0.8004\n",
            "Epoch 20/100\n",
            "141/141 [==============================] - 1s 6ms/step - loss: 0.4069 - accuracy: 0.8067 - val_loss: 0.4102 - val_accuracy: 0.8039\n",
            "Epoch 21/100\n",
            "141/141 [==============================] - 1s 6ms/step - loss: 0.4061 - accuracy: 0.8092 - val_loss: 0.4100 - val_accuracy: 0.7977\n",
            "Epoch 22/100\n",
            "141/141 [==============================] - 1s 6ms/step - loss: 0.4053 - accuracy: 0.8065 - val_loss: 0.4072 - val_accuracy: 0.8030\n",
            "Epoch 23/100\n",
            "141/141 [==============================] - 1s 7ms/step - loss: 0.4051 - accuracy: 0.8085 - val_loss: 0.4089 - val_accuracy: 0.8057\n",
            "Epoch 24/100\n",
            "141/141 [==============================] - 1s 8ms/step - loss: 0.4038 - accuracy: 0.8101 - val_loss: 0.4070 - val_accuracy: 0.7977\n",
            "Epoch 25/100\n",
            "141/141 [==============================] - 1s 6ms/step - loss: 0.4031 - accuracy: 0.8105 - val_loss: 0.4078 - val_accuracy: 0.7977\n",
            "Epoch 26/100\n",
            "141/141 [==============================] - 1s 5ms/step - loss: 0.4018 - accuracy: 0.8101 - val_loss: 0.4084 - val_accuracy: 0.8030\n",
            "Epoch 27/100\n",
            "141/141 [==============================] - 1s 6ms/step - loss: 0.4010 - accuracy: 0.8092 - val_loss: 0.4099 - val_accuracy: 0.8012\n",
            "Epoch 28/100\n",
            "141/141 [==============================] - 1s 7ms/step - loss: 0.3999 - accuracy: 0.8125 - val_loss: 0.4098 - val_accuracy: 0.7959\n",
            "Epoch 29/100\n",
            "141/141 [==============================] - 1s 6ms/step - loss: 0.4011 - accuracy: 0.8087 - val_loss: 0.4092 - val_accuracy: 0.7977\n",
            "Epoch 30/100\n",
            "141/141 [==============================] - 1s 6ms/step - loss: 0.3991 - accuracy: 0.8132 - val_loss: 0.4069 - val_accuracy: 0.8012\n",
            "Epoch 31/100\n",
            "141/141 [==============================] - 1s 6ms/step - loss: 0.3983 - accuracy: 0.8143 - val_loss: 0.4089 - val_accuracy: 0.7950\n",
            "Epoch 32/100\n",
            "141/141 [==============================] - 1s 6ms/step - loss: 0.3977 - accuracy: 0.8132 - val_loss: 0.4075 - val_accuracy: 0.7977\n",
            "Epoch 33/100\n",
            "141/141 [==============================] - 1s 5ms/step - loss: 0.3969 - accuracy: 0.8136 - val_loss: 0.4176 - val_accuracy: 0.7968\n",
            "Epoch 34/100\n",
            "141/141 [==============================] - 1s 4ms/step - loss: 0.3961 - accuracy: 0.8112 - val_loss: 0.4100 - val_accuracy: 0.8012\n",
            "Epoch 35/100\n",
            "141/141 [==============================] - 0s 3ms/step - loss: 0.3958 - accuracy: 0.8163 - val_loss: 0.4106 - val_accuracy: 0.8030\n",
            "Epoch 36/100\n",
            "141/141 [==============================] - 0s 3ms/step - loss: 0.3943 - accuracy: 0.8150 - val_loss: 0.4068 - val_accuracy: 0.7968\n",
            "Epoch 37/100\n",
            "141/141 [==============================] - 0s 3ms/step - loss: 0.3952 - accuracy: 0.8116 - val_loss: 0.4076 - val_accuracy: 0.8012\n",
            "Epoch 38/100\n",
            "141/141 [==============================] - 1s 4ms/step - loss: 0.3936 - accuracy: 0.8138 - val_loss: 0.4077 - val_accuracy: 0.7968\n",
            "Epoch 39/100\n",
            "141/141 [==============================] - 0s 3ms/step - loss: 0.3927 - accuracy: 0.8147 - val_loss: 0.4088 - val_accuracy: 0.7995\n",
            "Epoch 40/100\n",
            "141/141 [==============================] - 1s 4ms/step - loss: 0.3915 - accuracy: 0.8152 - val_loss: 0.4148 - val_accuracy: 0.7977\n",
            "Epoch 41/100\n",
            "141/141 [==============================] - 0s 3ms/step - loss: 0.3919 - accuracy: 0.8174 - val_loss: 0.4083 - val_accuracy: 0.7941\n",
            "Epoch 42/100\n",
            "141/141 [==============================] - 0s 3ms/step - loss: 0.3912 - accuracy: 0.8132 - val_loss: 0.4087 - val_accuracy: 0.7968\n",
            "Epoch 43/100\n",
            "141/141 [==============================] - 0s 3ms/step - loss: 0.3916 - accuracy: 0.8167 - val_loss: 0.4097 - val_accuracy: 0.7995\n",
            "Epoch 44/100\n",
            "141/141 [==============================] - 0s 3ms/step - loss: 0.3904 - accuracy: 0.8161 - val_loss: 0.4098 - val_accuracy: 0.7906\n",
            "Epoch 45/100\n",
            "141/141 [==============================] - 0s 3ms/step - loss: 0.3886 - accuracy: 0.8150 - val_loss: 0.4100 - val_accuracy: 0.7968\n",
            "Epoch 46/100\n",
            "141/141 [==============================] - 0s 3ms/step - loss: 0.3897 - accuracy: 0.8161 - val_loss: 0.4097 - val_accuracy: 0.7959\n",
            "Epoch 47/100\n",
            "141/141 [==============================] - 0s 3ms/step - loss: 0.3878 - accuracy: 0.8161 - val_loss: 0.4110 - val_accuracy: 0.7941\n",
            "Epoch 48/100\n",
            "141/141 [==============================] - 0s 3ms/step - loss: 0.3863 - accuracy: 0.8196 - val_loss: 0.4106 - val_accuracy: 0.7924\n",
            "Epoch 49/100\n",
            "141/141 [==============================] - 0s 3ms/step - loss: 0.3864 - accuracy: 0.8150 - val_loss: 0.4105 - val_accuracy: 0.7924\n",
            "Epoch 50/100\n",
            "141/141 [==============================] - 0s 3ms/step - loss: 0.3842 - accuracy: 0.8189 - val_loss: 0.4103 - val_accuracy: 0.7933\n",
            "Epoch 51/100\n",
            "141/141 [==============================] - 0s 3ms/step - loss: 0.3854 - accuracy: 0.8163 - val_loss: 0.4109 - val_accuracy: 0.7950\n",
            "Epoch 52/100\n",
            "141/141 [==============================] - 0s 3ms/step - loss: 0.3861 - accuracy: 0.8187 - val_loss: 0.4099 - val_accuracy: 0.7915\n",
            "Epoch 53/100\n",
            "141/141 [==============================] - 0s 3ms/step - loss: 0.3843 - accuracy: 0.8174 - val_loss: 0.4103 - val_accuracy: 0.7897\n",
            "Epoch 54/100\n",
            "141/141 [==============================] - 0s 3ms/step - loss: 0.3837 - accuracy: 0.8223 - val_loss: 0.4123 - val_accuracy: 0.7968\n",
            "Epoch 55/100\n",
            "141/141 [==============================] - 0s 3ms/step - loss: 0.3827 - accuracy: 0.8209 - val_loss: 0.4136 - val_accuracy: 0.7968\n",
            "Epoch 56/100\n",
            "141/141 [==============================] - 0s 3ms/step - loss: 0.3804 - accuracy: 0.8209 - val_loss: 0.4124 - val_accuracy: 0.7959\n",
            "Epoch 57/100\n",
            "141/141 [==============================] - 0s 3ms/step - loss: 0.3806 - accuracy: 0.8212 - val_loss: 0.4135 - val_accuracy: 0.7906\n",
            "Epoch 58/100\n",
            "141/141 [==============================] - 0s 3ms/step - loss: 0.3788 - accuracy: 0.8229 - val_loss: 0.4168 - val_accuracy: 0.7862\n",
            "Epoch 59/100\n",
            "141/141 [==============================] - 0s 3ms/step - loss: 0.3827 - accuracy: 0.8201 - val_loss: 0.4143 - val_accuracy: 0.7977\n",
            "Epoch 60/100\n",
            "141/141 [==============================] - 0s 3ms/step - loss: 0.3794 - accuracy: 0.8205 - val_loss: 0.4164 - val_accuracy: 0.7915\n",
            "Epoch 61/100\n",
            "141/141 [==============================] - 1s 6ms/step - loss: 0.3797 - accuracy: 0.8227 - val_loss: 0.4170 - val_accuracy: 0.8004\n",
            "Epoch 62/100\n",
            "141/141 [==============================] - 1s 6ms/step - loss: 0.3781 - accuracy: 0.8225 - val_loss: 0.4149 - val_accuracy: 0.7941\n",
            "Epoch 63/100\n",
            "141/141 [==============================] - 1s 7ms/step - loss: 0.3772 - accuracy: 0.8256 - val_loss: 0.4172 - val_accuracy: 0.7959\n",
            "Epoch 64/100\n",
            "141/141 [==============================] - 1s 6ms/step - loss: 0.3776 - accuracy: 0.8214 - val_loss: 0.4183 - val_accuracy: 0.7959\n",
            "Epoch 65/100\n",
            "141/141 [==============================] - 1s 7ms/step - loss: 0.3765 - accuracy: 0.8196 - val_loss: 0.4201 - val_accuracy: 0.7977\n",
            "Epoch 66/100\n",
            "141/141 [==============================] - 1s 6ms/step - loss: 0.3766 - accuracy: 0.8212 - val_loss: 0.4169 - val_accuracy: 0.7924\n",
            "Epoch 67/100\n",
            "141/141 [==============================] - 1s 6ms/step - loss: 0.3752 - accuracy: 0.8247 - val_loss: 0.4200 - val_accuracy: 0.7924\n",
            "Epoch 68/100\n",
            "141/141 [==============================] - 1s 6ms/step - loss: 0.3751 - accuracy: 0.8218 - val_loss: 0.4194 - val_accuracy: 0.7959\n",
            "Epoch 69/100\n",
            "141/141 [==============================] - 1s 6ms/step - loss: 0.3738 - accuracy: 0.8245 - val_loss: 0.4201 - val_accuracy: 0.7959\n",
            "Epoch 70/100\n",
            "141/141 [==============================] - 1s 6ms/step - loss: 0.3743 - accuracy: 0.8212 - val_loss: 0.4198 - val_accuracy: 0.7933\n",
            "Epoch 71/100\n",
            "141/141 [==============================] - 1s 7ms/step - loss: 0.3743 - accuracy: 0.8198 - val_loss: 0.4185 - val_accuracy: 0.7995\n",
            "Epoch 72/100\n",
            "141/141 [==============================] - 1s 8ms/step - loss: 0.3723 - accuracy: 0.8243 - val_loss: 0.4255 - val_accuracy: 0.7950\n",
            "Epoch 73/100\n",
            "141/141 [==============================] - 1s 7ms/step - loss: 0.3709 - accuracy: 0.8205 - val_loss: 0.4223 - val_accuracy: 0.7968\n",
            "Epoch 74/100\n",
            "141/141 [==============================] - 1s 6ms/step - loss: 0.3718 - accuracy: 0.8254 - val_loss: 0.4209 - val_accuracy: 0.7924\n",
            "Epoch 75/100\n",
            "141/141 [==============================] - 1s 6ms/step - loss: 0.3713 - accuracy: 0.8254 - val_loss: 0.4220 - val_accuracy: 0.7933\n",
            "Epoch 76/100\n",
            "141/141 [==============================] - 1s 6ms/step - loss: 0.3708 - accuracy: 0.8249 - val_loss: 0.4249 - val_accuracy: 0.7906\n",
            "Epoch 77/100\n",
            "141/141 [==============================] - 1s 6ms/step - loss: 0.3698 - accuracy: 0.8241 - val_loss: 0.4220 - val_accuracy: 0.7950\n",
            "Epoch 78/100\n",
            "141/141 [==============================] - 1s 6ms/step - loss: 0.3682 - accuracy: 0.8260 - val_loss: 0.4229 - val_accuracy: 0.7888\n",
            "Epoch 79/100\n",
            "141/141 [==============================] - 1s 6ms/step - loss: 0.3678 - accuracy: 0.8265 - val_loss: 0.4256 - val_accuracy: 0.7853\n",
            "Epoch 80/100\n",
            "141/141 [==============================] - 1s 6ms/step - loss: 0.3692 - accuracy: 0.8292 - val_loss: 0.4262 - val_accuracy: 0.7906\n",
            "Epoch 81/100\n",
            "141/141 [==============================] - 1s 6ms/step - loss: 0.3670 - accuracy: 0.8265 - val_loss: 0.4250 - val_accuracy: 0.7906\n",
            "Epoch 82/100\n",
            "141/141 [==============================] - 1s 6ms/step - loss: 0.3669 - accuracy: 0.8276 - val_loss: 0.4265 - val_accuracy: 0.7915\n",
            "Epoch 83/100\n",
            "141/141 [==============================] - 1s 4ms/step - loss: 0.3656 - accuracy: 0.8283 - val_loss: 0.4251 - val_accuracy: 0.7817\n",
            "Epoch 84/100\n",
            "141/141 [==============================] - 0s 3ms/step - loss: 0.3648 - accuracy: 0.8283 - val_loss: 0.4263 - val_accuracy: 0.7995\n",
            "Epoch 85/100\n",
            "141/141 [==============================] - 0s 3ms/step - loss: 0.3642 - accuracy: 0.8287 - val_loss: 0.4259 - val_accuracy: 0.7888\n",
            "Epoch 86/100\n",
            "141/141 [==============================] - 0s 3ms/step - loss: 0.3647 - accuracy: 0.8278 - val_loss: 0.4245 - val_accuracy: 0.7933\n",
            "Epoch 87/100\n",
            "141/141 [==============================] - 0s 3ms/step - loss: 0.3650 - accuracy: 0.8294 - val_loss: 0.4257 - val_accuracy: 0.7906\n",
            "Epoch 88/100\n",
            "141/141 [==============================] - 0s 3ms/step - loss: 0.3629 - accuracy: 0.8285 - val_loss: 0.4263 - val_accuracy: 0.7844\n",
            "Epoch 89/100\n",
            "141/141 [==============================] - 0s 3ms/step - loss: 0.3636 - accuracy: 0.8305 - val_loss: 0.4261 - val_accuracy: 0.7924\n",
            "Epoch 90/100\n",
            "141/141 [==============================] - 0s 3ms/step - loss: 0.3633 - accuracy: 0.8296 - val_loss: 0.4287 - val_accuracy: 0.7862\n",
            "Epoch 91/100\n",
            "141/141 [==============================] - 1s 4ms/step - loss: 0.3620 - accuracy: 0.8285 - val_loss: 0.4259 - val_accuracy: 0.7870\n",
            "Epoch 92/100\n",
            "141/141 [==============================] - 0s 3ms/step - loss: 0.3626 - accuracy: 0.8318 - val_loss: 0.4277 - val_accuracy: 0.7915\n",
            "Epoch 93/100\n",
            "141/141 [==============================] - 0s 3ms/step - loss: 0.3610 - accuracy: 0.8323 - val_loss: 0.4282 - val_accuracy: 0.7844\n",
            "Epoch 94/100\n",
            "141/141 [==============================] - 0s 3ms/step - loss: 0.3608 - accuracy: 0.8314 - val_loss: 0.4294 - val_accuracy: 0.7906\n",
            "Epoch 95/100\n",
            "141/141 [==============================] - 0s 3ms/step - loss: 0.3616 - accuracy: 0.8296 - val_loss: 0.4303 - val_accuracy: 0.7853\n",
            "Epoch 96/100\n",
            "141/141 [==============================] - 1s 4ms/step - loss: 0.3591 - accuracy: 0.8338 - val_loss: 0.4260 - val_accuracy: 0.7897\n",
            "Epoch 97/100\n",
            "141/141 [==============================] - 0s 3ms/step - loss: 0.3587 - accuracy: 0.8303 - val_loss: 0.4298 - val_accuracy: 0.7870\n",
            "Epoch 98/100\n",
            "141/141 [==============================] - 0s 3ms/step - loss: 0.3588 - accuracy: 0.8309 - val_loss: 0.4292 - val_accuracy: 0.7888\n",
            "Epoch 99/100\n",
            "141/141 [==============================] - 0s 3ms/step - loss: 0.3584 - accuracy: 0.8354 - val_loss: 0.4285 - val_accuracy: 0.7879\n",
            "Epoch 100/100\n",
            "141/141 [==============================] - 0s 3ms/step - loss: 0.3577 - accuracy: 0.8340 - val_loss: 0.4285 - val_accuracy: 0.7915\n"
          ]
        }
      ]
    },
    {
      "cell_type": "code",
      "source": [
        "model_history.history.keys()"
      ],
      "metadata": {
        "colab": {
          "base_uri": "https://localhost:8080/"
        },
        "id": "uxtwu7U4m2lr",
        "outputId": "4c60a5e5-7eb2-49ac-dfcb-22ef7257eb42"
      },
      "execution_count": 48,
      "outputs": [
        {
          "output_type": "execute_result",
          "data": {
            "text/plain": [
              "dict_keys(['loss', 'accuracy', 'val_loss', 'val_accuracy'])"
            ]
          },
          "metadata": {},
          "execution_count": 48
        }
      ]
    },
    {
      "cell_type": "code",
      "source": [
        "# summarize history for loss\n",
        "plt.plot(model_history.history['accuracy'])\n",
        "plt.plot(model_history.history['val_accuracy'])\n",
        "plt.title('model accuracy')\n",
        "plt.ylabel('accuracy')\n",
        "plt.xlabel('epoch')\n",
        "plt.legend(['train', 'test'], loc='upper left')\n",
        "plt.show()"
      ],
      "metadata": {
        "colab": {
          "base_uri": "https://localhost:8080/",
          "height": 295
        },
        "id": "vz6HNBx9nvUg",
        "outputId": "2fccea2a-17d3-4c60-c836-568ee9671356"
      },
      "execution_count": 49,
      "outputs": [
        {
          "output_type": "display_data",
          "data": {
            "text/plain": [
              "<Figure size 432x288 with 1 Axes>"
            ],
            "image/png": "[encoded data removed]"
          },
          "metadata": {
            "needs_background": "light"
          }
        }
      ]
    },
    {
      "cell_type": "code",
      "source": [
        "# summarize history for loss\n",
        "plt.plot(model_history.history['loss'])\n",
        "plt.plot(model_history.history['val_loss'])\n",
        "plt.title('model loss')\n",
        "plt.ylabel('loss')\n",
        "plt.xlabel('epoch')\n",
        "plt.legend(['train', 'test'], loc='upper left')\n",
        "plt.show()"
      ],
      "metadata": {
        "colab": {
          "base_uri": "https://localhost:8080/",
          "height": 295
        },
        "id": "WSTeNv_ZoBHJ",
        "outputId": "954965d6-9347-4227-9be5-f186b94b84bd"
      },
      "execution_count": 50,
      "outputs": [
        {
          "output_type": "display_data",
          "data": {
            "text/plain": [
              "<Figure size 432x288 with 1 Axes>"
            ],
            "image/png": "[encoded data removed]"
          },
          "metadata": {
            "needs_background": "light"
          }
        }
      ]
    },
    {
      "cell_type": "code",
      "source": [
        "model.evaluate(X_test, y_test)"
      ],
      "metadata": {
        "colab": {
          "base_uri": "https://localhost:8080/"
        },
        "id": "bnbESyes-xhm",
        "outputId": "f83cf03f-239c-47ef-97a2-1274ba2a8f17"
      },
      "execution_count": 51,
      "outputs": [
        {
          "output_type": "stream",
          "name": "stdout",
          "text": [
            "45/45 [==============================] - 0s 2ms/step - loss: 0.4393 - accuracy: 0.7942\n"
          ]
        },
        {
          "output_type": "execute_result",
          "data": {
            "text/plain": [
              "[0.43930888175964355, 0.7941802740097046]"
            ]
          },
          "metadata": {},
          "execution_count": 51
        }
      ]
    },
    {
      "cell_type": "code",
      "source": [
        "pred = model.predict(X_test)\n",
        "pred[:5]"
      ],
      "metadata": {
        "colab": {
          "base_uri": "https://localhost:8080/"
        },
        "id": "vk1Ycm5IApJV",
        "outputId": "790dbb3a-1e97-4efc-e27c-17e18040e9a8"
      },
      "execution_count": 52,
      "outputs": [
        {
          "output_type": "stream",
          "name": "stdout",
          "text": [
            "45/45 [==============================] - 0s 2ms/step\n"
          ]
        },
        {
          "output_type": "execute_result",
          "data": {
            "text/plain": [
              "array([[0.65474164],\n",
              "       [0.03234869],\n",
              "       [0.00721492],\n",
              "       [0.5888163 ],\n",
              "       [0.00493242]], dtype=float32)"
            ]
          },
          "metadata": {},
          "execution_count": 52
        }
      ]
    },
    {
      "cell_type": "code",
      "source": [
        "y_pred = []\n",
        "for element in pred:\n",
        "    if element > 0.5:\n",
        "        y_pred.append(1)\n",
        "    else:\n",
        "        y_pred.append(0) "
      ],
      "metadata": {
        "id": "18Lb0CQuEBiV"
      },
      "execution_count": 53,
      "outputs": []
    },
    {
      "cell_type": "code",
      "source": [
        "y_pred[:10]"
      ],
      "metadata": {
        "colab": {
          "base_uri": "https://localhost:8080/"
        },
        "id": "JeZhuwbIFvql",
        "outputId": "61af5066-8920-4782-a6e7-1263b17d11a0"
      },
      "execution_count": 54,
      "outputs": [
        {
          "output_type": "execute_result",
          "data": {
            "text/plain": [
              "[1, 0, 0, 1, 0, 0, 0, 0, 0, 0]"
            ]
          },
          "metadata": {},
          "execution_count": 54
        }
      ]
    },
    {
      "cell_type": "code",
      "source": [
        "y_test[:10]"
      ],
      "metadata": {
        "colab": {
          "base_uri": "https://localhost:8080/"
        },
        "id": "9bkrYkLGGPXE",
        "outputId": "e147dd5a-bce0-42e4-f9ad-9ee67d737171"
      },
      "execution_count": 55,
      "outputs": [
        {
          "output_type": "execute_result",
          "data": {
            "text/plain": [
              "185     1\n",
              "2715    0\n",
              "3825    0\n",
              "1807    1\n",
              "132     0\n",
              "1263    1\n",
              "3732    0\n",
              "1672    0\n",
              "811     1\n",
              "2526    1\n",
              "Name: Churn, dtype: int64"
            ]
          },
          "metadata": {},
          "execution_count": 55
        }
      ]
    },
    {
      "cell_type": "code",
      "source": [
        "from sklearn.metrics import confusion_matrix, classification_report\n",
        "\n",
        "print(' Classification Report: \\n\\n', classification_report(y_test, y_pred))"
      ],
      "metadata": {
        "colab": {
          "base_uri": "https://localhost:8080/"
        },
        "id": "rhCq7XWMHKAx",
        "outputId": "3fd580b8-ce66-4cb7-8be4-2f44471c3a6d"
      },
      "execution_count": 56,
      "outputs": [
        {
          "output_type": "stream",
          "name": "stdout",
          "text": [
            " Classification Report: \n",
            "\n",
            "               precision    recall  f1-score   support\n",
            "\n",
            "           0       0.84      0.89      0.86      1036\n",
            "           1       0.63      0.53      0.58       373\n",
            "\n",
            "    accuracy                           0.79      1409\n",
            "   macro avg       0.74      0.71      0.72      1409\n",
            "weighted avg       0.79      0.79      0.79      1409\n",
            "\n"
          ]
        }
      ]
    },
    {
      "cell_type": "code",
      "source": [
        "cm = tf.math.confusion_matrix(labels=y_test, predictions=y_pred)\n",
        "\n",
        "plt.figure(figsize=(10,6))\n",
        "sns.heatmap(cm, annot=True, fmt='d')\n",
        "plt.xlabel('Prediction', fontsize=15)\n",
        "plt.ylabel('Truth', fontsize=15)"
      ],
      "metadata": {
        "colab": {
          "base_uri": "https://localhost:8080/",
          "height": 410
        },
        "id": "vD6OQVsgIya7",
        "outputId": "4abc6bdd-22a2-4d75-c238-53f28379fa99"
      },
      "execution_count": 57,
      "outputs": [
        {
          "output_type": "execute_result",
          "data": {
            "text/plain": [
              "Text(69.0, 0.5, 'Truth')"
            ]
          },
          "metadata": {},
          "execution_count": 57
        },
        {
          "output_type": "display_data",
          "data": {
            "text/plain": [
              "<Figure size 720x432 with 2 Axes>"
            ],
            "image/png": "[encoded data removed]"
          },
          "metadata": {
            "needs_background": "light"
          }
        }
      ]
    },
    {
      "cell_type": "markdown",
      "source": [
        "**Accuracy**"
      ],
      "metadata": {
        "id": "QmYcQ9PgLVDZ"
      }
    },
    {
      "cell_type": "code",
      "source": [
        "# Calculate the Accuracy\n",
        "from sklearn.metrics import accuracy_score\n",
        "score=accuracy_score(y_pred,y_test)*100\n",
        "score"
      ],
      "metadata": {
        "colab": {
          "base_uri": "https://localhost:8080/"
        },
        "id": "1Osq8UbgpkoK",
        "outputId": "f50d308b-06e1-4757-e835-84c24392c0e1"
      },
      "execution_count": 58,
      "outputs": [
        {
          "output_type": "execute_result",
          "data": {
            "text/plain": [
              "79.4180269694819"
            ]
          },
          "metadata": {},
          "execution_count": 58
        }
      ]
    },
    {
      "cell_type": "code",
      "source": [
        "round((921+198)/(921+115+175+198),2)"
      ],
      "metadata": {
        "colab": {
          "base_uri": "https://localhost:8080/"
        },
        "id": "9wM8xadVLXlH",
        "outputId": "0463666f-1005-4efb-a97a-c7569e46d185"
      },
      "execution_count": 66,
      "outputs": [
        {
          "output_type": "execute_result",
          "data": {
            "text/plain": [
              "0.79"
            ]
          },
          "metadata": {},
          "execution_count": 66
        }
      ]
    },
    {
      "cell_type": "markdown",
      "source": [
        "**Precision for 0 class. i.e. Precision for customers who did not churn**"
      ],
      "metadata": {
        "id": "Q3_qwknxNzrL"
      }
    },
    {
      "cell_type": "code",
      "source": [
        "precision_0 = round(921/(921+175), 2)\n",
        "precision_0"
      ],
      "metadata": {
        "colab": {
          "base_uri": "https://localhost:8080/"
        },
        "id": "u155Fd6NN0_-",
        "outputId": "86c7ccb3-28b9-4414-d93f-2dfd19ded124"
      },
      "execution_count": 69,
      "outputs": [
        {
          "output_type": "execute_result",
          "data": {
            "text/plain": [
              "0.84"
            ]
          },
          "metadata": {},
          "execution_count": 69
        }
      ]
    },
    {
      "cell_type": "markdown",
      "source": [
        "**Precision for 1 class. i.e. Precision for customers who are churn**"
      ],
      "metadata": {
        "id": "xgzUPZHlPWq9"
      }
    },
    {
      "cell_type": "code",
      "source": [
        "precision_1 = round(198/(198+115),2)\n",
        "precision_1"
      ],
      "metadata": {
        "colab": {
          "base_uri": "https://localhost:8080/"
        },
        "id": "yWI2HMXLPcM1",
        "outputId": "0f839603-3be9-4323-bcdd-b293c67cf662"
      },
      "execution_count": 70,
      "outputs": [
        {
          "output_type": "execute_result",
          "data": {
            "text/plain": [
              "0.63"
            ]
          },
          "metadata": {},
          "execution_count": 70
        }
      ]
    },
    {
      "cell_type": "markdown",
      "source": [
        "**Recall for 0 class**"
      ],
      "metadata": {
        "id": "LRGf89MtP0Kl"
      }
    },
    {
      "cell_type": "code",
      "source": [
        "recall_0 = round(921/(921+115),2)\n",
        "recall_0"
      ],
      "metadata": {
        "colab": {
          "base_uri": "https://localhost:8080/"
        },
        "id": "cKkRXyKVP2Ok",
        "outputId": "1089a763-dbe5-4e29-b067-a1b758683132"
      },
      "execution_count": 71,
      "outputs": [
        {
          "output_type": "execute_result",
          "data": {
            "text/plain": [
              "0.89"
            ]
          },
          "metadata": {},
          "execution_count": 71
        }
      ]
    },
    {
      "cell_type": "markdown",
      "source": [
        "**Recall for 1 class**"
      ],
      "metadata": {
        "id": "aKzn6pNIP7JP"
      }
    },
    {
      "cell_type": "code",
      "source": [
        "recall_1 = round(198/(198+175),2)\n",
        "recall_1"
      ],
      "metadata": {
        "colab": {
          "base_uri": "https://localhost:8080/"
        },
        "id": "s78aA4YZP521",
        "outputId": "189983ee-be29-42fd-b5d8-fc6c4f683a38"
      },
      "execution_count": 72,
      "outputs": [
        {
          "output_type": "execute_result",
          "data": {
            "text/plain": [
              "0.53"
            ]
          },
          "metadata": {},
          "execution_count": 72
        }
      ]
    },
    {
      "cell_type": "markdown",
      "source": [
        "**F1-score for 0 class**"
      ],
      "metadata": {
        "id": "Cg_633nxQ52c"
      }
    },
    {
      "cell_type": "code",
      "source": [
        "f1_score_0 = round((2*precision_0*recall_0)/(precision_0+recall_0), 2)\n",
        "f1_score_0"
      ],
      "metadata": {
        "colab": {
          "base_uri": "https://localhost:8080/"
        },
        "id": "ig7Yny-AQ5g9",
        "outputId": "6133f2df-6049-4fb1-9f81-584e9cb2bbf5"
      },
      "execution_count": 73,
      "outputs": [
        {
          "output_type": "execute_result",
          "data": {
            "text/plain": [
              "0.86"
            ]
          },
          "metadata": {},
          "execution_count": 73
        }
      ]
    },
    {
      "cell_type": "markdown",
      "source": [
        "**F1-score for 1 class**"
      ],
      "metadata": {
        "id": "xYQtwYRJUqpR"
      }
    },
    {
      "cell_type": "code",
      "source": [
        "f1_score_1 = round((2*precision_1*recall_1)/(precision_1+recall_1), 2)\n",
        "f1_score_1"
      ],
      "metadata": {
        "colab": {
          "base_uri": "https://localhost:8080/"
        },
        "outputId": "3de8b8af-549d-409a-e499-e9dd005026f3",
        "id": "Cf7Fb9NRUqpS"
      },
      "execution_count": 74,
      "outputs": [
        {
          "output_type": "execute_result",
          "data": {
            "text/plain": [
              "0.58"
            ]
          },
          "metadata": {},
          "execution_count": 74
        }
      ]
    },
    {
      "cell_type": "markdown",
      "source": [
        "# SMOTE"
      ],
      "metadata": {
        "id": "Z4g6AgUaNYZ-"
      }
    },
    {
      "cell_type": "markdown",
      "source": [
        "Improve f1-score useing SMOTE Technique "
      ],
      "metadata": {
        "id": "ZyO1cuz_MLZX"
      }
    },
    {
      "cell_type": "code",
      "source": [
        "X = customer_churn_df.drop('Churn',axis='columns')\n",
        "y = customer_churn_df['Churn']"
      ],
      "metadata": {
        "id": "p9T0yZLCSpXS"
      },
      "execution_count": 151,
      "outputs": []
    },
    {
      "cell_type": "code",
      "source": [
        "from imblearn.over_sampling import SMOTE\n",
        "\n",
        "smote = SMOTE(sampling_strategy='minority')\n",
        "\n",
        "X_sm, y_sm = smote.fit_resample(X, y)\n",
        "\n",
        "y_sm.value_counts()"
      ],
      "metadata": {
        "colab": {
          "base_uri": "https://localhost:8080/"
        },
        "id": "wTeioOwONgDm",
        "outputId": "b195f529-5acd-4b0a-8e93-bd9f4520f29e"
      },
      "execution_count": 152,
      "outputs": [
        {
          "output_type": "execute_result",
          "data": {
            "text/plain": [
              "0    5174\n",
              "1    5174\n",
              "Name: Churn, dtype: int64"
            ]
          },
          "metadata": {},
          "execution_count": 152
        }
      ]
    },
    {
      "cell_type": "code",
      "source": [
        "from sklearn.model_selection import train_test_split\n",
        "X_train, X_test, y_train, y_test = train_test_split(X_sm, y_sm, test_size=0.2, random_state=42, stratify=y_sm)"
      ],
      "metadata": {
        "id": "pd2GR9liOh2F"
      },
      "execution_count": 153,
      "outputs": []
    },
    {
      "cell_type": "code",
      "source": [
        "X_train.shape, X_test.shape"
      ],
      "metadata": {
        "colab": {
          "base_uri": "https://localhost:8080/"
        },
        "id": "jcFO7zHjPfC8",
        "outputId": "79028c5f-a9b2-4644-b072-307ff1f70178"
      },
      "execution_count": 154,
      "outputs": [
        {
          "output_type": "execute_result",
          "data": {
            "text/plain": [
              "((8278, 23), (2070, 23))"
            ]
          },
          "metadata": {},
          "execution_count": 154
        }
      ]
    },
    {
      "cell_type": "code",
      "source": [
        "# Number of classes in training Data\n",
        "y_train.value_counts()"
      ],
      "metadata": {
        "colab": {
          "base_uri": "https://localhost:8080/"
        },
        "id": "9mRUGpThP6nG",
        "outputId": "09b45c19-dafc-4f7b-f972-0fc656641270"
      },
      "execution_count": 155,
      "outputs": [
        {
          "output_type": "execute_result",
          "data": {
            "text/plain": [
              "1    4139\n",
              "0    4139\n",
              "Name: Churn, dtype: int64"
            ]
          },
          "metadata": {},
          "execution_count": 155
        }
      ]
    },
    {
      "cell_type": "code",
      "source": [
        "def ANN_smote(X_train, y_train, X_test, y_test, loss, weights):\n",
        "    model = keras.Sequential([\n",
        "        keras.layers.Dense(26, input_shape=(23,), activation='relu'),\n",
        "        keras.layers.Dense(15, activation='relu'),\n",
        "        keras.layers.Dense(1, activation='sigmoid')\n",
        "    ])\n",
        "\n",
        "    model.compile(optimizer='adam', loss=loss, metrics=['accuracy'])\n",
        "    \n",
        "    if weights == -1:\n",
        "        model.fit(X_train, y_train, epochs=100)\n",
        "    else:\n",
        "        model.fit(X_train, y_train, epochs=100, class_weight = weights)\n",
        "    \n",
        "    print(model.evaluate(X_test, y_test))\n",
        "    \n",
        "    y_preds = model.predict(X_test)\n",
        "    y_preds = np.round(y_preds)\n",
        "    \n",
        "    print(\"Classification Report: \\n\", classification_report(y_test, y_preds))\n",
        "    \n",
        "    return y_preds"
      ],
      "metadata": {
        "id": "ueI9Y4JYQUa8"
      },
      "execution_count": 160,
      "outputs": []
    },
    {
      "cell_type": "code",
      "source": [
        "y_preds = ANN_smote(X_train, y_train, X_test, y_test, 'binary_crossentropy', -1)"
      ],
      "metadata": {
        "colab": {
          "base_uri": "https://localhost:8080/"
        },
        "id": "bW0Tld2VQsG6",
        "outputId": "69a255d1-6418-4f8d-de39-dbc950081a67"
      },
      "execution_count": 161,
      "outputs": [
        {
          "output_type": "stream",
          "name": "stdout",
          "text": [
            "Epoch 1/100\n",
            "259/259 [==============================] - 1s 3ms/step - loss: 0.5231 - accuracy: 0.7422\n",
            "Epoch 2/100\n",
            "259/259 [==============================] - 1s 3ms/step - loss: 0.4606 - accuracy: 0.7828\n",
            "Epoch 3/100\n",
            "259/259 [==============================] - 1s 3ms/step - loss: 0.4508 - accuracy: 0.7873\n",
            "Epoch 4/100\n",
            "259/259 [==============================] - 1s 3ms/step - loss: 0.4455 - accuracy: 0.7875\n",
            "Epoch 5/100\n",
            "259/259 [==============================] - 1s 3ms/step - loss: 0.4414 - accuracy: 0.7913\n",
            "Epoch 6/100\n",
            "259/259 [==============================] - 1s 3ms/step - loss: 0.4389 - accuracy: 0.7887\n",
            "Epoch 7/100\n",
            "259/259 [==============================] - 1s 3ms/step - loss: 0.4364 - accuracy: 0.7927\n",
            "Epoch 8/100\n",
            "259/259 [==============================] - 1s 3ms/step - loss: 0.4345 - accuracy: 0.7937\n",
            "Epoch 9/100\n",
            "259/259 [==============================] - 1s 3ms/step - loss: 0.4324 - accuracy: 0.7981\n",
            "Epoch 10/100\n",
            "259/259 [==============================] - 1s 3ms/step - loss: 0.4314 - accuracy: 0.7980\n",
            "Epoch 11/100\n",
            "259/259 [==============================] - 1s 3ms/step - loss: 0.4284 - accuracy: 0.7992\n",
            "Epoch 12/100\n",
            "259/259 [==============================] - 1s 3ms/step - loss: 0.4269 - accuracy: 0.8021\n",
            "Epoch 13/100\n",
            "259/259 [==============================] - 1s 3ms/step - loss: 0.4249 - accuracy: 0.8020\n",
            "Epoch 14/100\n",
            "259/259 [==============================] - 1s 3ms/step - loss: 0.4231 - accuracy: 0.8058\n",
            "Epoch 15/100\n",
            "259/259 [==============================] - 1s 3ms/step - loss: 0.4210 - accuracy: 0.8101\n",
            "Epoch 16/100\n",
            "259/259 [==============================] - 1s 3ms/step - loss: 0.4189 - accuracy: 0.8070\n",
            "Epoch 17/100\n",
            "259/259 [==============================] - 1s 3ms/step - loss: 0.4179 - accuracy: 0.8068\n",
            "Epoch 18/100\n",
            "259/259 [==============================] - 1s 3ms/step - loss: 0.4147 - accuracy: 0.8086\n",
            "Epoch 19/100\n",
            "259/259 [==============================] - 1s 3ms/step - loss: 0.4139 - accuracy: 0.8109\n",
            "Epoch 20/100\n",
            "259/259 [==============================] - 1s 3ms/step - loss: 0.4115 - accuracy: 0.8111\n",
            "Epoch 21/100\n",
            "259/259 [==============================] - 1s 3ms/step - loss: 0.4089 - accuracy: 0.8164\n",
            "Epoch 22/100\n",
            "259/259 [==============================] - 1s 3ms/step - loss: 0.4091 - accuracy: 0.8130\n",
            "Epoch 23/100\n",
            "259/259 [==============================] - 1s 3ms/step - loss: 0.4064 - accuracy: 0.8170\n",
            "Epoch 24/100\n",
            "259/259 [==============================] - 1s 3ms/step - loss: 0.4047 - accuracy: 0.8163\n",
            "Epoch 25/100\n",
            "259/259 [==============================] - 1s 3ms/step - loss: 0.4044 - accuracy: 0.8190\n",
            "Epoch 26/100\n",
            "259/259 [==============================] - 1s 3ms/step - loss: 0.4015 - accuracy: 0.8194\n",
            "Epoch 27/100\n",
            "259/259 [==============================] - 1s 3ms/step - loss: 0.3993 - accuracy: 0.8206\n",
            "Epoch 28/100\n",
            "259/259 [==============================] - 1s 3ms/step - loss: 0.3997 - accuracy: 0.8171\n",
            "Epoch 29/100\n",
            "259/259 [==============================] - 1s 3ms/step - loss: 0.3979 - accuracy: 0.8209\n",
            "Epoch 30/100\n",
            "259/259 [==============================] - 1s 3ms/step - loss: 0.3959 - accuracy: 0.8217\n",
            "Epoch 31/100\n",
            "259/259 [==============================] - 1s 3ms/step - loss: 0.3937 - accuracy: 0.8231\n",
            "Epoch 32/100\n",
            "259/259 [==============================] - 1s 3ms/step - loss: 0.3927 - accuracy: 0.8254\n",
            "Epoch 33/100\n",
            "259/259 [==============================] - 1s 3ms/step - loss: 0.3932 - accuracy: 0.8221\n",
            "Epoch 34/100\n",
            "259/259 [==============================] - 1s 4ms/step - loss: 0.3911 - accuracy: 0.8259\n",
            "Epoch 35/100\n",
            "259/259 [==============================] - 1s 4ms/step - loss: 0.3900 - accuracy: 0.8235\n",
            "Epoch 36/100\n",
            "259/259 [==============================] - 1s 4ms/step - loss: 0.3865 - accuracy: 0.8270\n",
            "Epoch 37/100\n",
            "259/259 [==============================] - 1s 5ms/step - loss: 0.3869 - accuracy: 0.8251\n",
            "Epoch 38/100\n",
            "259/259 [==============================] - 1s 3ms/step - loss: 0.3855 - accuracy: 0.8286\n",
            "Epoch 39/100\n",
            "259/259 [==============================] - 1s 3ms/step - loss: 0.3850 - accuracy: 0.8297\n",
            "Epoch 40/100\n",
            "259/259 [==============================] - 1s 3ms/step - loss: 0.3853 - accuracy: 0.8266\n",
            "Epoch 41/100\n",
            "259/259 [==============================] - 1s 3ms/step - loss: 0.3825 - accuracy: 0.8297\n",
            "Epoch 42/100\n",
            "259/259 [==============================] - 1s 3ms/step - loss: 0.3814 - accuracy: 0.8295\n",
            "Epoch 43/100\n",
            "259/259 [==============================] - 1s 3ms/step - loss: 0.3801 - accuracy: 0.8315\n",
            "Epoch 44/100\n",
            "259/259 [==============================] - 1s 3ms/step - loss: 0.3794 - accuracy: 0.8287\n",
            "Epoch 45/100\n",
            "259/259 [==============================] - 1s 3ms/step - loss: 0.3786 - accuracy: 0.8297\n",
            "Epoch 46/100\n",
            "259/259 [==============================] - 1s 3ms/step - loss: 0.3773 - accuracy: 0.8308\n",
            "Epoch 47/100\n",
            "259/259 [==============================] - 1s 3ms/step - loss: 0.3770 - accuracy: 0.8308\n",
            "Epoch 48/100\n",
            "259/259 [==============================] - 1s 3ms/step - loss: 0.3758 - accuracy: 0.8295\n",
            "Epoch 49/100\n",
            "259/259 [==============================] - 1s 3ms/step - loss: 0.3750 - accuracy: 0.8326\n",
            "Epoch 50/100\n",
            "259/259 [==============================] - 1s 3ms/step - loss: 0.3723 - accuracy: 0.8338\n",
            "Epoch 51/100\n",
            "259/259 [==============================] - 1s 3ms/step - loss: 0.3747 - accuracy: 0.8314\n",
            "Epoch 52/100\n",
            "259/259 [==============================] - 1s 3ms/step - loss: 0.3727 - accuracy: 0.8334\n",
            "Epoch 53/100\n",
            "259/259 [==============================] - 1s 3ms/step - loss: 0.3712 - accuracy: 0.8314\n",
            "Epoch 54/100\n",
            "259/259 [==============================] - 1s 3ms/step - loss: 0.3698 - accuracy: 0.8333\n",
            "Epoch 55/100\n",
            "259/259 [==============================] - 1s 3ms/step - loss: 0.3699 - accuracy: 0.8352\n",
            "Epoch 56/100\n",
            "259/259 [==============================] - 1s 3ms/step - loss: 0.3683 - accuracy: 0.8318\n",
            "Epoch 57/100\n",
            "259/259 [==============================] - 1s 3ms/step - loss: 0.3662 - accuracy: 0.8382\n",
            "Epoch 58/100\n",
            "259/259 [==============================] - 1s 3ms/step - loss: 0.3676 - accuracy: 0.8384\n",
            "Epoch 59/100\n",
            "259/259 [==============================] - 1s 3ms/step - loss: 0.3656 - accuracy: 0.8352\n",
            "Epoch 60/100\n",
            "259/259 [==============================] - 1s 3ms/step - loss: 0.3655 - accuracy: 0.8350\n",
            "Epoch 61/100\n",
            "259/259 [==============================] - 1s 3ms/step - loss: 0.3646 - accuracy: 0.8362\n",
            "Epoch 62/100\n",
            "259/259 [==============================] - 1s 3ms/step - loss: 0.3659 - accuracy: 0.8358\n",
            "Epoch 63/100\n",
            "259/259 [==============================] - 1s 3ms/step - loss: 0.3640 - accuracy: 0.8376\n",
            "Epoch 64/100\n",
            "259/259 [==============================] - 1s 3ms/step - loss: 0.3635 - accuracy: 0.8385\n",
            "Epoch 65/100\n",
            "259/259 [==============================] - 1s 3ms/step - loss: 0.3633 - accuracy: 0.8387\n",
            "Epoch 66/100\n",
            "259/259 [==============================] - 1s 3ms/step - loss: 0.3634 - accuracy: 0.8379\n",
            "Epoch 67/100\n",
            "259/259 [==============================] - 1s 3ms/step - loss: 0.3606 - accuracy: 0.8409\n",
            "Epoch 68/100\n",
            "259/259 [==============================] - 1s 3ms/step - loss: 0.3594 - accuracy: 0.8397\n",
            "Epoch 69/100\n",
            "259/259 [==============================] - 1s 3ms/step - loss: 0.3618 - accuracy: 0.8399\n",
            "Epoch 70/100\n",
            "259/259 [==============================] - 1s 3ms/step - loss: 0.3593 - accuracy: 0.8404\n",
            "Epoch 71/100\n",
            "259/259 [==============================] - 1s 4ms/step - loss: 0.3591 - accuracy: 0.8393\n",
            "Epoch 72/100\n",
            "259/259 [==============================] - 1s 4ms/step - loss: 0.3574 - accuracy: 0.8395\n",
            "Epoch 73/100\n",
            "259/259 [==============================] - 1s 3ms/step - loss: 0.3582 - accuracy: 0.8410\n",
            "Epoch 74/100\n",
            "259/259 [==============================] - 1s 3ms/step - loss: 0.3589 - accuracy: 0.8414\n",
            "Epoch 75/100\n",
            "259/259 [==============================] - 1s 3ms/step - loss: 0.3582 - accuracy: 0.8395\n",
            "Epoch 76/100\n",
            "259/259 [==============================] - 1s 3ms/step - loss: 0.3557 - accuracy: 0.8410\n",
            "Epoch 77/100\n",
            "259/259 [==============================] - 1s 3ms/step - loss: 0.3568 - accuracy: 0.8422\n",
            "Epoch 78/100\n",
            "259/259 [==============================] - 1s 3ms/step - loss: 0.3562 - accuracy: 0.8455\n",
            "Epoch 79/100\n",
            "259/259 [==============================] - 1s 3ms/step - loss: 0.3557 - accuracy: 0.8433\n",
            "Epoch 80/100\n",
            "259/259 [==============================] - 1s 3ms/step - loss: 0.3547 - accuracy: 0.8431\n",
            "Epoch 81/100\n",
            "259/259 [==============================] - 1s 3ms/step - loss: 0.3548 - accuracy: 0.8431\n",
            "Epoch 82/100\n",
            "259/259 [==============================] - 1s 3ms/step - loss: 0.3531 - accuracy: 0.8428\n",
            "Epoch 83/100\n",
            "259/259 [==============================] - 1s 3ms/step - loss: 0.3521 - accuracy: 0.8450\n",
            "Epoch 84/100\n",
            "259/259 [==============================] - 1s 3ms/step - loss: 0.3525 - accuracy: 0.8437\n",
            "Epoch 85/100\n",
            "259/259 [==============================] - 1s 3ms/step - loss: 0.3550 - accuracy: 0.8428\n",
            "Epoch 86/100\n",
            "259/259 [==============================] - 1s 3ms/step - loss: 0.3521 - accuracy: 0.8426\n",
            "Epoch 87/100\n",
            "259/259 [==============================] - 1s 3ms/step - loss: 0.3496 - accuracy: 0.8461\n",
            "Epoch 88/100\n",
            "259/259 [==============================] - 1s 3ms/step - loss: 0.3505 - accuracy: 0.8415\n",
            "Epoch 89/100\n",
            "259/259 [==============================] - 1s 3ms/step - loss: 0.3497 - accuracy: 0.8445\n",
            "Epoch 90/100\n",
            "259/259 [==============================] - 1s 3ms/step - loss: 0.3485 - accuracy: 0.8432\n",
            "Epoch 91/100\n",
            "259/259 [==============================] - 1s 3ms/step - loss: 0.3496 - accuracy: 0.8455\n",
            "Epoch 92/100\n",
            "259/259 [==============================] - 1s 3ms/step - loss: 0.3483 - accuracy: 0.8461\n",
            "Epoch 93/100\n",
            "259/259 [==============================] - 1s 3ms/step - loss: 0.3487 - accuracy: 0.8451\n",
            "Epoch 94/100\n",
            "259/259 [==============================] - 1s 3ms/step - loss: 0.3488 - accuracy: 0.8448\n",
            "Epoch 95/100\n",
            "259/259 [==============================] - 1s 3ms/step - loss: 0.3490 - accuracy: 0.8444\n",
            "Epoch 96/100\n",
            "259/259 [==============================] - 1s 3ms/step - loss: 0.3469 - accuracy: 0.8438\n",
            "Epoch 97/100\n",
            "259/259 [==============================] - 1s 3ms/step - loss: 0.3465 - accuracy: 0.8479\n",
            "Epoch 98/100\n",
            "259/259 [==============================] - 1s 3ms/step - loss: 0.3503 - accuracy: 0.8420\n",
            "Epoch 99/100\n",
            "259/259 [==============================] - 1s 3ms/step - loss: 0.3456 - accuracy: 0.8461\n",
            "Epoch 100/100\n",
            "259/259 [==============================] - 1s 3ms/step - loss: 0.3479 - accuracy: 0.8462\n",
            "65/65 [==============================] - 0s 2ms/step - loss: 0.4311 - accuracy: 0.8174\n",
            "[0.4310719072818756, 0.8173912763595581]\n",
            "65/65 [==============================] - 0s 1ms/step\n",
            "Classification Report: \n",
            "               precision    recall  f1-score   support\n",
            "\n",
            "           0       0.85      0.77      0.81      1035\n",
            "           1       0.79      0.86      0.82      1035\n",
            "\n",
            "    accuracy                           0.82      2070\n",
            "   macro avg       0.82      0.82      0.82      2070\n",
            "weighted avg       0.82      0.82      0.82      2070\n",
            "\n"
          ]
        }
      ]
    },
    {
      "cell_type": "markdown",
      "source": [
        "SMOT Oversampling increases f1 score of minority class 1 from **0.58 to 0.82** (huge improvement) Also over all accuracy improves from **0.79 to 0.82**"
      ],
      "metadata": {
        "id": "7ilzluPfVuxz"
      }
    }
  ]
}